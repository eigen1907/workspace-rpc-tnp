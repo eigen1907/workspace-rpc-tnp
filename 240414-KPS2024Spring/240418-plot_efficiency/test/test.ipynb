{
 "cells": [
  {
   "cell_type": "code",
   "execution_count": 1,
   "metadata": {},
   "outputs": [],
   "source": [
    "import pandas as pd\n",
    "import numpy as np\n",
    "import matplotlib.pyplot as plt"
   ]
  },
  {
   "cell_type": "code",
   "execution_count": 14,
   "metadata": {},
   "outputs": [],
   "source": [
    "run2_geom = pd.read_csv('/u/user/sjws5411/Workspace/Efficiency/CMSSW_14_1_0_pre2/src/RPCDPGAnalysis/NanoAODTnP/data/geometry/run2.csv', index_col=False)\n",
    "run3_geom = pd.read_csv('/u/user/sjws5411/Workspace/Efficiency/CMSSW_14_1_0_pre2/src/RPCDPGAnalysis/NanoAODTnP/data/geometry/run3.csv', index_col=False)"
   ]
  },
  {
   "cell_type": "code",
   "execution_count": 15,
   "metadata": {},
   "outputs": [
    {
     "name": "stdout",
     "output_type": "stream",
     "text": [
      "0        W-2_RB1in_S01_Backward\n",
      "1         W-2_RB1in_S01_Forward\n",
      "2       W-2_RB1out_S01_Backward\n",
      "3        W-2_RB1out_S01_Forward\n",
      "4        W-2_RB1in_S02_Backward\n",
      "                 ...           \n",
      "2311             RE-3_R2_CH19_B\n",
      "2312             RE-3_R2_CH19_C\n",
      "2313             RE-3_R3_CH19_A\n",
      "2314             RE-3_R3_CH19_B\n",
      "2315             RE-3_R3_CH19_C\n",
      "Name: roll_name, Length: 2316, dtype: object\n"
     ]
    }
   ],
   "source": [
    "print(run2_geom.roll_name)"
   ]
  },
  {
   "cell_type": "code",
   "execution_count": 21,
   "metadata": {},
   "outputs": [
    {
     "name": "stdout",
     "output_type": "stream",
     "text": [
      "1020\n",
      "1296\n"
     ]
    }
   ],
   "source": [
    "print(len(run2_geom[run2_geom.roll_name.str.startswith('W')]))\n",
    "print(len(run2_geom[run2_geom.roll_name.str.startswith('RE')]))"
   ]
  }
 ],
 "metadata": {
  "kernelspec": {
   "display_name": "ds4hep",
   "language": "python",
   "name": "ds4hep"
  },
  "language_info": {
   "codemirror_mode": {
    "name": "ipython",
    "version": 3
   },
   "file_extension": ".py",
   "mimetype": "text/x-python",
   "name": "python",
   "nbconvert_exporter": "python",
   "pygments_lexer": "ipython3",
   "version": "3.11.7"
  }
 },
 "nbformat": 4,
 "nbformat_minor": 2
}
