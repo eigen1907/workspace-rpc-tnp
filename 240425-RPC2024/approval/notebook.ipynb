{
 "cells": [
  {
   "cell_type": "code",
   "execution_count": 1,
   "metadata": {},
   "outputs": [],
   "source": [
    "# https://twiki.cern.ch/twiki/bin/view/CMSPublic/RPCDPGResultsRPC2018#RPC_performance_with_Tracker_ext\n",
    "\n",
    "import os, sys\n",
    "sys.path.append(\"/users/hep/eigen1907/Workspace/Workspace-RPC/modules\")\n",
    "from pathlib import Path\n",
    "from NanoAODTnP.Plotting.PlotDetectorMap import plot_detector_map\n",
    "from NanoAODTnP.Plotting.PlotEfficiency4Approval import *\n",
    "\n",
    "store_path = Path('/users/hep/eigen1907/store/TnP-NanoAOD/analysis')\n",
    "cond_path = Path('/users/hep/eigen1907/store/TnP-NanoAOD/condition')\n",
    "run_info_path = '/users/hep/eigen1907/store/TnP-NanoAOD/condition/run_info/run_info.csv'\n",
    "output_path = Path('/users/hep/eigen1907/Workspace/Workspace-RPC/240425-TnP_RPC24/approval')\n",
    "\n",
    "input_path_2022 = store_path / 'without_blacklist' / 'Run2022.root'\n",
    "input_path_2023 = store_path / 'without_blacklist' / 'Run2023.root'\n",
    "hist_tnp_mass(input_path_2022, input_path_2023, output_path / \"mass_dist\" / 'mass_2022_2023_v2.png')"
   ]
  },
  {
   "cell_type": "code",
   "execution_count": 2,
   "metadata": {},
   "outputs": [],
   "source": [
    "store_path = Path('/users/hep/eigen1907/store/TnP-NanoAOD/analysis')\n",
    "cond_path = Path('/users/hep/eigen1907/store/TnP-NanoAOD/condition')\n",
    "run_info_path = '/users/hep/eigen1907/store/TnP-NanoAOD/condition/run_info/run_info.csv'\n",
    "output_path = Path('/users/hep/eigen1907/Workspace/Workspace-RPC/240425-TnP_RPC24/approval')\n"
   ]
  },
  {
   "cell_type": "code",
   "execution_count": 3,
   "metadata": {},
   "outputs": [],
   "source": [
    "input_path_2022 = store_path / 'without_blacklist' / 'Run2022.root'\n",
    "input_path_2023 = store_path / 'without_blacklist' / 'Run2023.root'\n",
    "hist_tnp_mass(input_path_2022, input_path_2023, output_path / \"RPC2024\" / 'mass_dist_Aug31.png')"
   ]
  },
  {
   "cell_type": "code",
   "execution_count": 4,
   "metadata": {},
   "outputs": [],
   "source": [
    "#data_type_list = ['with_blacklist_roll', 'with_blacklist_roll_run']\n",
    "#regions = ['Barrel', 'Endcap', 'Disk1,2,3', 'Disk4',]\n",
    "regions = ['Barrel', 'Endcap']\n",
    "input_path_2022 = store_path / 'with_blacklist_roll_run' / 'Run2022.root'\n",
    "input_path_2023 = store_path / 'with_blacklist_roll_run' / 'Run2023.root'   \n",
    "for region in regions:\n",
    "    hist_eff_by_roll(input_path_2022, input_path_2023, region, output_path / 'RPC2024' / ('eff_dist_' + region + '.png'))"
   ]
  },
  {
   "cell_type": "code",
   "execution_count": 5,
   "metadata": {},
   "outputs": [
    {
     "data": {
      "text/plain": [
       "\"\\ndata_type_list = ['with_blacklist_roll', 'with_blacklist_roll_run',]\\n\\nfix_regions_list = [\\n    ['Barrel', 'Endcap'],\\n    ['Barrel', 'Endcap', 'Disk4'],\\n    ['Barrel', 'Disk1,2,3', 'Disk4'],\\n]\\n\\nfor data_type in data_type_list:\\n    for regions in fix_regions_list:\\n        plot_eff_by_time_run3(store_path / data_type / f'Run3.root',\\n                              run_info_path, \\n                              regions, \\n                              output_path / 'eff_history' / data_type / f'{'_'.join(regions)}.png', \\n                              era='Run3',\\n                              lumi=69.4,\\n                              fix_color=True, \\n                              alpha=0.7)\\n\""
      ]
     },
     "execution_count": 5,
     "metadata": {},
     "output_type": "execute_result"
    }
   ],
   "source": [
    "'''\n",
    "data_type_list = ['with_blacklist_roll', 'with_blacklist_roll_run',]\n",
    "\n",
    "fix_regions_list = [\n",
    "    ['Barrel', 'Endcap'],\n",
    "    ['Barrel', 'Endcap', 'Disk4'],\n",
    "    ['Barrel', 'Disk1,2,3', 'Disk4'],\n",
    "]\n",
    "\n",
    "for data_type in data_type_list:\n",
    "    for regions in fix_regions_list:\n",
    "        plot_eff_by_time_run3(store_path / data_type / f'Run3.root',\n",
    "                              run_info_path, \n",
    "                              regions, \n",
    "                              output_path / 'eff_history' / data_type / f'{'_'.join(regions)}.png', \n",
    "                              era='Run3',\n",
    "                              lumi=69.4,\n",
    "                              fix_color=True, \n",
    "                              alpha=0.7)\n",
    "'''"
   ]
  },
  {
   "cell_type": "code",
   "execution_count": 6,
   "metadata": {},
   "outputs": [
    {
     "data": {
      "text/plain": [
       "'\\ndata_type_list = [\\'with_blacklist_roll\\', \\'with_blacklist_roll_run\\']\\ndata_era_list = [\\'Run2022\\', \\'Run2023\\']\\ndata_label_list = [\\'2022\\', \\'2023\\']\\nlumi_list = [34.7, 27.9]\\n\\nfor data_type in data_type_list:\\n    for idx in range(len(data_era_list)):\\n        plot_detector_map(\\n            input_path = store_path / data_type / f\\'{data_era_list[idx]}.root\\',\\n            geom_path = cond_path / \\'geometry\\' / \\'run3.csv\\',\\n            output_dir = output_path / \\'eff_det_map\\' / data_type / data_era_list[idx],\\n            roll_blacklist_path = \\'/users/hep/eigen1907/store/TnP-NanoAOD/condition/blacklist/roll-blacklist.json\\',\\n            com = 13.6,\\n            year = f\"{data_label_list[idx]} Data\",\\n            lumi = lumi_list[idx],\\n            label = f\\'Preliminary\\',\\n            value = \\'efficiency\\',\\n        )\\n'"
      ]
     },
     "execution_count": 6,
     "metadata": {},
     "output_type": "execute_result"
    }
   ],
   "source": [
    "'''\n",
    "data_type_list = ['with_blacklist_roll', 'with_blacklist_roll_run']\n",
    "data_era_list = ['Run2022', 'Run2023']\n",
    "data_label_list = ['2022', '2023']\n",
    "lumi_list = [34.7, 27.9]\n",
    "\n",
    "for data_type in data_type_list:\n",
    "    for idx in range(len(data_era_list)):\n",
    "        plot_detector_map(\n",
    "            input_path = store_path / data_type / f'{data_era_list[idx]}.root',\n",
    "            geom_path = cond_path / 'geometry' / 'run3.csv',\n",
    "            output_dir = output_path / 'eff_det_map' / data_type / data_era_list[idx],\n",
    "            roll_blacklist_path = '/users/hep/eigen1907/store/TnP-NanoAOD/condition/blacklist/roll-blacklist.json',\n",
    "            com = 13.6,\n",
    "            year = f\"{data_label_list[idx]} Data\",\n",
    "            lumi = lumi_list[idx],\n",
    "            label = f'Preliminary',\n",
    "            value = 'efficiency',\n",
    "        )\n",
    "'''"
   ]
  }
 ],
 "metadata": {
  "kernelspec": {
   "display_name": "Python 3",
   "language": "python",
   "name": "python3"
  },
  "language_info": {
   "codemirror_mode": {
    "name": "ipython",
    "version": 3
   },
   "file_extension": ".py",
   "mimetype": "text/x-python",
   "name": "python",
   "nbconvert_exporter": "python",
   "pygments_lexer": "ipython3",
   "version": "3.12.4"
  }
 },
 "nbformat": 4,
 "nbformat_minor": 2
}
