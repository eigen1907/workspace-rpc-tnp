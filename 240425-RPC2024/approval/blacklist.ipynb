{
 "cells": [
  {
   "cell_type": "code",
   "execution_count": 1,
   "metadata": {},
   "outputs": [],
   "source": [
    "import pandas as pd\n",
    "import json\n",
    "\n",
    "def txt2json(input_path, output_path):\n",
    "    with open(input_path, 'r') as file:\n",
    "        lines = file.readlines()\n",
    "\n",
    "    formatted_list = []\n",
    "    for line in lines:\n",
    "        parts = line.strip().split()\n",
    "        if len(parts) == 2:\n",
    "            formatted_list.append(parts[1])\n",
    "\n",
    "    formatted_list.sort()\n",
    "\n",
    "    with open(output_path, 'w') as file:\n",
    "        json.dump(formatted_list, file, indent=4)\n",
    "    return 0\n",
    "\n",
    "def roll2chamber(input_path, output_path):\n",
    "    with open(input_path) as file:\n",
    "        roll_set = set(json.load(file))\n",
    "    chamber_list = []\n",
    "    for roll in roll_set:\n",
    "        roll_names = roll.split('_')\n",
    "        if roll_names[0].startswith('W'):\n",
    "            if roll_names[1].endswith(('in', 'out')):\n",
    "                chamber_name = roll_names[0] + '_' + roll_names[1] + '_' + roll_names[2]\n",
    "            else:\n",
    "                chamber_name = roll_names[0] + '_' + roll_names[1][0:3] + '_' + roll_names[2]\n",
    "            #chamber_name = roll_names[0] + '_' + roll_names[1] + '_' + roll_names[2]\n",
    "        elif roll_names[0].startswith('RE'):\n",
    "            chamber_name = roll_names[0] + '_' + roll_names[1] + '_' + roll_names[2]\n",
    "        chamber_list.append(chamber_name)\n",
    "    chamber_list = list(set(chamber_list))\n",
    "    chamber_list.sort()\n",
    "    with open(output_path, 'w') as file:\n",
    "        json.dump(chamber_list, file, indent=4)\n",
    "    return 0\n"
   ]
  },
  {
   "cell_type": "code",
   "execution_count": 2,
   "metadata": {},
   "outputs": [],
   "source": [
    "### Make blacklist roll&chamber files\n",
    "blacklist_path = '/users/hep/eigen1907/Workspace/Workspace-RPC/data/blacklist/fromAhmed_07Jul'\n",
    "years = ['2022', '2023', '2024']\n",
    "for year in years:\n",
    "    txt2json(f'{blacklist_path}/blackList{year}.txt', f'{blacklist_path}/rollBlackList{year}.json')\n",
    "    roll2chamber(f'{blacklist_path}/rollBlackList{year}.json', f'{blacklist_path}/chamberBlackList{year}.json')"
   ]
  },
  {
   "cell_type": "code",
   "execution_count": 6,
   "metadata": {},
   "outputs": [
    {
     "name": "stdout",
     "output_type": "stream",
     "text": [
      "2022 blacklist chambers\n",
      "{'RE+2_R3_CH33', 'RE+3_R2_CH01', 'RE+4_R2_CH19', 'RE-4_R2_CH27', 'RE-3_R2_CH25', 'W-2_RB3_S11', 'RE+3_R2_CH25', 'RE-3_R2_CH19', 'W+0_RB2out_S04', 'W+0_RB1in_S02', 'W-1_RB1in_S03', 'W-1_RB3_S12', 'W+1_RB2out_S12', 'W-1_RB3_S03', 'W-1_RB4_S03', 'W+0_RB1out_S03', 'RE-3_R2_CH27', 'W-1_RB1out_S02', 'RE+4_R2_CH05', 'RE+1_R3_CH04', 'RE-3_R2_CH17', 'RE+1_R2_CH10', 'W+1_RB1out_S05', 'W+2_RB3_S10', 'RE-3_R2_CH23', 'W+2_RB3_S01', 'W+2_RB1out_S04', 'W-1_RB2out_S01', 'W+0_RB3_S05', 'W+0_RB2out_S08', 'RE-3_R2_CH11', 'W+2_RB1out_S01', 'RE+4_R2_CH27', 'RE-3_R2_CH03', 'RE+3_R2_CH33', 'W+0_RB1out_S06', 'W+2_RB3_S06', 'RE+4_R2_CH29', 'RE+4_R2_CH11', 'W+0_RB3_S06', 'W+0_RB4_S01', 'W+2_RB4_S08', 'RE-4_R2_CH33', 'W-1_RB3_S11', 'RE-4_R2_CH05', 'RE+4_R2_CH15', 'W-1_RB1out_S10', 'W-1_RB4_S02', 'W+0_RB3_S02', 'RE+3_R2_CH09', 'W+0_RB3_S08', 'W+0_RB3_S11', 'RE+3_R2_CH07', 'RE-4_R2_CH21', 'W+0_RB1out_S02', 'W-1_RB4_S04', 'W+2_RB3_S11', 'RE+2_R3_CH31', 'RE-4_R2_CH31', 'W+1_RB2out_S05', 'W-1_RB4_S12', 'W-1_RB1in_S02', 'W+1_RB3_S08', 'W+0_RB4_S07', 'W-2_RB2in_S01', 'W-2_RB3_S08', 'RE-3_R2_CH07', 'RE-4_R2_CH25', 'RE-4_R2_CH04', 'RE-4_R2_CH09', 'W+1_RB1in_S07', 'RE+4_R2_CH01', 'RE-4_R2_CH03', 'W-1_RB1in_S11', 'W-1_RB2in_S01', 'W+2_RB1in_S07', 'W-1_RB3_S10', 'W-2_RB1out_S09', 'RE+3_R2_CH35', 'RE+4_R2_CH03', 'W+1_RB4_S04', 'RE-4_R2_CH07', 'W+1_RB3_S07', 'RE-3_R2_CH09', 'W-1_RB2out_S04', 'RE+3_R2_CH31', 'W+2_RB3_S09', 'W-1_RB4_S10', 'W-2_RB1out_S08', 'RE-3_R2_CH21', 'W+0_RB3_S04', 'W+0_RB1out_S05', 'RE+3_R2_CH03', 'W-1_RB3_S05', 'RE-4_R2_CH19', 'RE-4_R2_CH35', 'W-1_RB1out_S11', 'RE-4_R2_CH11', 'W-2_RB2out_S01', 'RE+4_R2_CH17', 'RE+3_R2_CH21', 'W-2_RB2out_S04', 'W+1_RB2out_S03', 'W-2_RB2in_S04', 'RE-3_R2_CH01', 'RE-4_R3_CH04', 'W-1_RB3_S09', 'RE+1_R3_CH15', 'W+0_RB1out_S10', 'RE+4_R2_CH31', 'W-1_RB1in_S08', 'W-2_RB2in_S06', 'RE-3_R2_CH13', 'W-2_RB4_S07', 'W+1_RB4_S10', 'RE-4_R2_CH01', 'RE+3_R2_CH13', 'RE+3_R2_CH15', 'W-1_RB1out_S03', 'RE+1_R2_CH35', 'W-1_RB2out_S07', 'RE+4_R2_CH07', 'RE-3_R2_CH29', 'W-2_RB4_S04', 'RE+3_R2_CH17', 'W+2_RB1out_S07', 'RE+3_R2_CH23', 'W+2_RB1in_S12', 'RE+3_R2_CH05', 'RE-3_R2_CH05', 'W-2_RB3_S03', 'RE-4_R2_CH13', 'W+0_RB1in_S05', 'W+2_RB1out_S12', 'W-2_RB1in_S07', 'RE+4_R2_CH33', 'RE+4_R2_CH13', 'RE-4_R2_CH29', 'W-1_RB1out_S08', 'W-2_RB3_S10', 'W+2_RB2in_S05', 'W-1_RB4_S05', 'RE+3_R2_CH19', 'RE+4_R2_CH21', 'RE+2_R2_CH31', 'W+2_RB2in_S08', 'RE+3_R2_CH29', 'RE-4_R2_CH23', 'RE+3_R2_CH27', 'W+0_RB3_S12', 'RE-3_R2_CH33', 'RE-3_R2_CH31', 'W-2_RB3_S06', 'W+0_RB2in_S06', 'RE+4_R2_CH09', 'RE-4_R2_CH15', 'W+2_RB1in_S05', 'W-1_RB1in_S10', 'W+0_RB2in_S07', 'RE+4_R2_CH35', 'RE-3_R2_CH35', 'RE+4_R2_CH23', 'RE-3_R2_CH15', 'RE-4_R2_CH17', 'W+2_RB4_S01', 'W-1_RB3_S02', 'W+0_RB1in_S10', 'W-1_RB3_S06', 'W-1_RB4_S01', 'W-2_RB4_S05', 'W+2_RB3_S12', 'W-1_RB3_S04', 'W-1_RB1out_S04', 'RE+3_R2_CH11', 'RE+4_R2_CH25', 'W+2_RB1out_S05'}\n",
      "176\n"
     ]
    }
   ],
   "source": [
    "### Counting blacklist roll&chamber\n",
    "### From Mariana, \n",
    "### 2022: 110(108 gas leak)\n",
    "### 2023: 130(129 gas leak)\n",
    "\n",
    "chamber_blacklist_path = '/users/hep/eigen1907/Workspace/Workspace-RPC/data/blacklist/fromAhmed_07Jul/chamberBlackList2022.json'\n",
    "\n",
    "with open(chamber_blacklist_path, 'r') as file:\n",
    "    chamber_blacklist_set = set(json.load(file))\n",
    "\n",
    "print('2022 blacklist chambers')\n",
    "print(chamber_blacklist_set)\n",
    "print(len(chamber_blacklist_set))"
   ]
  },
  {
   "cell_type": "code",
   "execution_count": 5,
   "metadata": {},
   "outputs": [
    {
     "name": "stdout",
     "output_type": "stream",
     "text": [
      "2023 blacklist chambers\n",
      "{'RE+2_R3_CH33', 'RE+3_R2_CH01', 'W-1_RB2out_S05', 'RE+4_R2_CH19', 'RE-4_R2_CH27', 'RE-3_R2_CH25', 'W-2_RB3_S11', 'RE+3_R2_CH25', 'RE-3_R2_CH19', 'W+0_RB2out_S04', 'W+0_RB1in_S02', 'W-1_RB1in_S03', 'W-1_RB3_S12', 'W+1_RB2out_S12', 'W-1_RB3_S03', 'W-1_RB4_S03', 'W-2_RB1in_S12', 'W+0_RB1out_S03', 'RE-3_R2_CH27', 'W-1_RB1out_S02', 'RE+4_R2_CH05', 'RE+1_R3_CH04', 'RE-3_R2_CH17', 'W+1_RB1out_S05', 'W+2_RB3_S10', 'W-2_RB2in_S05', 'RE-3_R2_CH23', 'W+2_RB3_S01', 'W+2_RB1out_S04', 'W-2_RB2out_S03', 'W-1_RB2out_S01', 'W-2_RB1out_S01', 'W+0_RB3_S05', 'W+0_RB2out_S08', 'RE-3_R2_CH11', 'W+2_RB1out_S01', 'RE+4_R2_CH27', 'RE-3_R2_CH03', 'W-1_RB2in_S05', 'RE+3_R2_CH33', 'W-2_RB2out_S11', 'W+0_RB1out_S06', 'RE+4_R2_CH29', 'RE+4_R2_CH11', 'W+0_RB3_S06', 'W+0_RB4_S01', 'W+2_RB4_S08', 'W-1_RB2in_S07', 'RE-4_R2_CH33', 'W-1_RB3_S11', 'RE-4_R2_CH05', 'RE+4_R2_CH15', 'W-1_RB1out_S10', 'W-1_RB4_S02', 'W+0_RB3_S02', 'RE+3_R2_CH09', 'W+0_RB3_S08', 'W+0_RB3_S11', 'RE+3_R2_CH07', 'W+0_RB4_S04', 'RE-4_R2_CH21', 'RE+4_R1_CH16', 'W+0_RB1out_S02', 'W-1_RB4_S04', 'W+2_RB3_S11', 'W-1_RB4_S12', 'RE-4_R2_CH31', 'W+1_RB2out_S05', 'W-1_RB1in_S02', 'RE+3_R1_CH16', 'W+0_RB4_S07', 'W-2_RB4_S12', 'W-1_RB3_S07', 'W-2_RB3_S08', 'RE-3_R2_CH07', 'RE-4_R2_CH25', 'RE-4_R2_CH04', 'RE-4_R2_CH09', 'W+1_RB1in_S07', 'RE+4_R2_CH01', 'RE+3_R1_CH15', 'RE-4_R2_CH03', 'W-1_RB1in_S11', 'W-1_RB2in_S01', 'W+2_RB1in_S07', 'W-1_RB3_S10', 'W-2_RB1out_S09', 'RE+3_R2_CH35', 'RE+4_R2_CH03', 'W+1_RB4_S04', 'RE-4_R2_CH07', 'W+1_RB3_S07', 'RE-3_R2_CH09', 'W-1_RB2out_S04', 'RE+3_R2_CH31', 'W+2_RB3_S09', 'W-1_RB4_S10', 'W+1_RB2in_S02', 'W-2_RB1out_S08', 'RE-3_R2_CH21', 'W+1_RB2out_S02', 'W+0_RB3_S04', 'W+0_RB1out_S05', 'RE+3_R2_CH03', 'W-1_RB3_S05', 'RE-4_R2_CH19', 'RE-4_R2_CH35', 'W-1_RB1out_S11', 'W-1_RB4_S07', 'W-2_RB2in_S03', 'RE-4_R2_CH11', 'W-2_RB2out_S01', 'W-1_RB1in_S07', 'RE+4_R2_CH17', 'W-2_RB3_S12', 'RE+3_R2_CH21', 'W-2_RB2out_S04', 'W+1_RB2out_S03', 'W-2_RB2in_S04', 'RE-3_R2_CH01', 'RE-4_R3_CH04', 'W-1_RB3_S09', 'RE+1_R3_CH15', 'W+0_RB1out_S10', 'RE+4_R2_CH31', 'W-1_RB1in_S08', 'W-2_RB2in_S06', 'RE-3_R2_CH13', 'W-2_RB4_S07', 'W+1_RB4_S10', 'RE-4_R2_CH01', 'RE+3_R2_CH13', 'RE+3_R2_CH15', 'W-1_RB1out_S03', 'RE+1_R2_CH35', 'W-1_RB2out_S07', 'RE+4_R2_CH07', 'RE-3_R2_CH29', 'W-2_RB4_S04', 'RE+3_R2_CH17', 'RE+3_R2_CH23', 'W+2_RB3_S07', 'W+2_RB1in_S12', 'RE+3_R2_CH05', 'RE-3_R2_CH05', 'W-2_RB3_S03', 'RE-4_R2_CH13', 'W+0_RB1in_S05', 'W-1_RB2out_S10', 'W+2_RB1out_S12', 'W-2_RB1in_S07', 'RE+4_R2_CH33', 'W-2_RB3_S05', 'RE+4_R2_CH13', 'RE-4_R2_CH29', 'W-1_RB1out_S08', 'W-1_RB1out_S07', 'W-2_RB3_S10', 'W+2_RB2in_S05', 'RE+4_R1_CH15', 'RE+3_R2_CH19', 'W-1_RB4_S05', 'RE+4_R2_CH21', 'W+2_RB2in_S08', 'RE-4_R2_CH23', 'RE+3_R2_CH29', 'RE+3_R2_CH27', 'W+0_RB3_S12', 'RE-3_R2_CH33', 'RE-3_R2_CH31', 'W-2_RB3_S06', 'W+0_RB2in_S06', 'RE+4_R2_CH09', 'RE-4_R2_CH15', 'W+2_RB1in_S05', 'W-1_RB1in_S10', 'W+0_RB2in_S07', 'RE+4_R2_CH35', 'RE-3_R2_CH35', 'RE+4_R2_CH23', 'RE-3_R2_CH15', 'RE-4_R2_CH17', 'W+2_RB4_S01', 'W-1_RB3_S02', 'W+0_RB1in_S10', 'W-1_RB3_S06', 'W-1_RB4_S01', 'W-2_RB4_S05', 'W+2_RB3_S12', 'W-1_RB2in_S10', 'W-1_RB3_S04', 'W+0_RB3_S09', 'W-1_RB1out_S04', 'RE+3_R2_CH11', 'RE+4_R2_CH25', 'W+2_RB1out_S05'}\n",
      "196\n"
     ]
    }
   ],
   "source": [
    "chamber_blacklist_path = '/users/hep/eigen1907/Workspace/Workspace-RPC/data/blacklist/fromAhmed_07Jul/chamberBlackList2023.json'\n",
    "\n",
    "with open(chamber_blacklist_path, 'r') as file:\n",
    "    chamber_blacklist_set = set(json.load(file))\n",
    "\n",
    "print('2023 blacklist chambers')\n",
    "print(chamber_blacklist_set)\n",
    "print(len(chamber_blacklist_set))"
   ]
  }
 ],
 "metadata": {
  "kernelspec": {
   "display_name": "Python 3",
   "language": "python",
   "name": "python3"
  },
  "language_info": {
   "codemirror_mode": {
    "name": "ipython",
    "version": 3
   },
   "file_extension": ".py",
   "mimetype": "text/x-python",
   "name": "python",
   "nbconvert_exporter": "python",
   "pygments_lexer": "ipython3",
   "version": "3.12.4"
  }
 },
 "nbformat": 4,
 "nbformat_minor": 2
}
