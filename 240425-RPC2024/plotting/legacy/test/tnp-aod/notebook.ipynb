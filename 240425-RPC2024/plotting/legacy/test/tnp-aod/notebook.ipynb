{
 "cells": [
  {
   "cell_type": "code",
   "execution_count": 1,
   "metadata": {},
   "outputs": [
    {
     "name": "stdout",
     "output_type": "stream",
     "text": [
      "['/users/eigen1907/micromamba/envs/ds4hep/lib/python311.zip', '/users/eigen1907/micromamba/envs/ds4hep/lib/python3.11', '/users/eigen1907/micromamba/envs/ds4hep/lib/python3.11/lib-dynload', '', '/users/eigen1907/micromamba/envs/ds4hep/lib/python3.11/site-packages', '/users/eigen1907/Workspace/Workspace-RPC/modules']\n"
     ]
    }
   ],
   "source": [
    "import os, sys\n",
    "sys.path.append(\"/users/eigen1907/Workspace/Workspace-RPC/modules\")\n",
    "\n",
    "print(sys.path)"
   ]
  },
  {
   "cell_type": "code",
   "execution_count": 2,
   "metadata": {},
   "outputs": [],
   "source": [
    "from pathlib import Path\n",
    "from NanoAODTnP.Analysis.NanoAOD import flatten_nanoaod"
   ]
  },
  {
   "cell_type": "code",
   "execution_count": 4,
   "metadata": {},
   "outputs": [],
   "source": [
    "path_workspace = Path(\"/users/eigen1907/Workspace/Workspace-RPC/240425-TnP_RPC24/TnP_Plotting\")\n",
    "\n",
    "flatten_nanoaod(\n",
    "    input_path = path_workspace / \"datasample\" / \"2022C_output_1.root\",\n",
    "    cert_path = path_workspace / \"cert\" / \"Cert_Collisions2022_eraC_355862_357482_Golden.json\",\n",
    "    geom_path = path_workspace / \"geometry\" / \"run3.csv\",\n",
    "    output_path = path_workspace / \"test\" / \"2022C_output_1_flatten.root\",\n",
    "    name = 'rpcTnP',\n",
    ")\n"
   ]
  }
 ],
 "metadata": {
  "kernelspec": {
   "display_name": "Python 3",
   "language": "python",
   "name": "python3"
  },
  "language_info": {
   "codemirror_mode": {
    "name": "ipython",
    "version": 3
   },
   "file_extension": ".py",
   "mimetype": "text/x-python",
   "name": "python",
   "nbconvert_exporter": "python",
   "pygments_lexer": "ipython3",
   "version": "3.11.9"
  }
 },
 "nbformat": 4,
 "nbformat_minor": 2
}
