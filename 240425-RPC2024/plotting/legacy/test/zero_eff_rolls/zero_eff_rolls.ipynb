{
 "cells": [
  {
   "cell_type": "code",
   "execution_count": 2,
   "metadata": {},
   "outputs": [],
   "source": [
    "import json\n",
    "import numpy as np\n",
    "import pandas as pd\n",
    "import uproot\n",
    "import matplotlib.pyplot as plt\n",
    "import mplhep as mh\n",
    "\n",
    "from hist.hist import Hist\n",
    "from hist.axis import Regular\n",
    "from hist.axis import IntCategory\n",
    "from hist.axis import StrCategory\n",
    "\n",
    "from pathlib import Path\n",
    "\n",
    "from typing import Optional, Union\n",
    "\n",
    "from matplotlib.colors import Colormap, ListedColormap\n",
    "from matplotlib.colors import LogNorm"
   ]
  },
  {
   "cell_type": "code",
   "execution_count": 11,
   "metadata": {},
   "outputs": [],
   "source": [
    "def get_zero_eff_det(\n",
    "    data,\n",
    "    geom,\n",
    "    roll_blacklist,\n",
    "):\n",
    "    roll_names = np.unique(geom['roll_name'])\n",
    "    is_blacklist = np.vectorize(lambda item: item in roll_blacklist)\n",
    "    blacklist_mask = ~is_blacklist(roll_names)\n",
    "    roll_names = roll_names[blacklist_mask]\n",
    "    h_total = data['total'].to_hist()\n",
    "    h_passed = data['passed'].to_hist()\n",
    "    total = h_total[roll_names.tolist()].values()\n",
    "    passed = h_passed[roll_names.tolist()].values()\n",
    "    eff = np.divide(passed, total, out=np.zeros_like(total),\n",
    "                    where=(total > 0)) * 100\n",
    "    hist, bins = np.histogram(eff, bins=101, range=(0, 101))\n",
    "\n",
    "    eff_over70 = eff[eff > 70].mean()\n",
    "    n_rolls = len(roll_names)\n",
    "    n_rolls_over70 = len(roll_names[eff > 70])\n",
    "    n_rolls_over0_under70 = len(roll_names[(eff <= 70) & (eff > 0)])\n",
    "    n_rolls_0 = len(roll_names[eff == 0])\n",
    "\n",
    "    zero_eff_rolls = roll_names[eff == 0]\n",
    "    return zero_eff_rolls"
   ]
  },
  {
   "cell_type": "code",
   "execution_count": 18,
   "metadata": {},
   "outputs": [
    {
     "name": "stderr",
     "output_type": "stream",
     "text": [
      "/users/eigen1907/micromamba/envs/ds4hep/lib/python3.11/site-packages/hist/basehist.py:400: UserWarning: List indexing selection is experimental. Removed bins are not placed in overflow.\n",
      "  return super().__getitem__(self._index_transform(index))\n"
     ]
    }
   ],
   "source": [
    "working_dir = Path('/users/eigen1907/Workspace/Workspace-RPC/240425-TnP_RPC24/TnP_Plotting')\n",
    "data_2022_path = working_dir / 'data' / 'Run2022.root'\n",
    "data_2023_path = working_dir / 'data' / 'Run2023.root' \n",
    "geom_path = working_dir / 'geometry' / 'run3.csv'\n",
    "roll_blacklist_path = working_dir / 'blacklist' / 'roll-blacklist.json'\n",
    "\n",
    "if roll_blacklist_path is None:\n",
    "    roll_blacklist = set()\n",
    "else:\n",
    "    with open(roll_blacklist_path) as stream:\n",
    "        roll_blacklist = set(json.load(stream))\n",
    "\n",
    "\n",
    "data_2022 = uproot.open(data_2022_path)\n",
    "data_2023 = uproot.open(data_2023_path)\n",
    "\n",
    "geom = pd.read_csv(geom_path)\n",
    "\n",
    "zero_eff_rolls_2022 = get_zero_eff_det(data_2022, geom, roll_blacklist)\n",
    "zero_eff_rolls_2023 = get_zero_eff_det(data_2023, geom, roll_blacklist)\n",
    "\n",
    "df_2022 = pd.DataFrame(zero_eff_rolls_2022)\n",
    "df_2023 = pd.DataFrame(zero_eff_rolls_2023)\n",
    "\n",
    "df_2022.to_csv(working_dir / 'plotting' / 'zero_eff_det_2022.csv', index=False)\n",
    "df_2023.to_csv(working_dir / 'plotting' / 'zero_eff_det_2023.csv', index=False)\n",
    "\n"
   ]
  },
  {
   "cell_type": "code",
   "execution_count": 6,
   "metadata": {},
   "outputs": [],
   "source": [
    "data = uproot.open(\"/users/eigen1907/Workspace/Workspace-RPC/240425-TnP_RPC24/TnP_Plotting/data/Run3.root:tree\").arrays('residual_x', library='np')"
   ]
  },
  {
   "cell_type": "code",
   "execution_count": 2,
   "metadata": {},
   "outputs": [],
   "source": [
    "import pandas as pd"
   ]
  },
  {
   "cell_type": "code",
   "execution_count": 9,
   "metadata": {},
   "outputs": [
    {
     "name": "stdout",
     "output_type": "stream",
     "text": [
      "{'W+2_RB3+_S12_Forward', 'W+0_RB4-_S07_Forward', 'W-1_RB1in_S10_Forward', 'W-2_RB1out_S09_Backward', 'W+2_RB4+_S08_Forward', 'W+1_RB2out_S03_Forward', 'W-2_RB2out_S01_Forward', 'RE+1_R3_CH15_B', 'W+0_RB3+_S11_Forward', 'W+0_RB2out_S08_Backward', 'W+0_RB3+_S04_Forward', 'W+0_RB3+_S04_Backward', 'W-1_RB1out_S10_Backward', 'W-2_RB2in_S04_Backward', 'W-1_RB3-_S02_Backward', 'RE+1_R2_CH35_A', 'W-2_RB3-_S10_Backward', 'W-2_RB4+_S04_Forward', 'W-1_RB4-_S04_Backward', 'W-2_RB4-_S07_Backward', 'W-1_RB3-_S10_Forward', 'RE+1_R3_CH04_B', 'W+0_RB3+_S11_Backward', 'W-2_RB2out_S01_Middle', 'W+0_RB2in_S07_Backward', 'W-1_RB2out_S07_Backward', 'W-2_RB3+_S10_Forward', 'W+2_RB2in_S08_Backward', 'W+1_RB4--_S04_Backward', 'W-2_RB2in_S04_Forward', 'W-1_RB1in_S03_Forward', 'RE+1_R3_CH15_A', 'W+2_RB3-_S09_Backward', 'W-1_RB1in_S02_Forward', 'RE+1_R3_CH04_C', 'W+0_RB2out_S04_Backward', 'W-2_RB3-_S11_Forward', 'W-2_RB4-_S04_Backward', 'W+0_RB1in_S10_Forward', 'W+1_RB1out_S05_Forward', 'W+2_RB3-_S12_Backward', 'W+2_RB1out_S01_Forward', 'W-1_RB1out_S08_Backward', 'W-1_RB4+_S10_Backward', 'W+0_RB3+_S12_Backward', 'W+0_RB3+_S02_Forward', 'W+0_RB3+_S08_Backward', 'W+2_RB1in_S05_Backward', 'W+0_RB2in_S07_Forward', 'W+0_RB3+_S12_Forward', 'W+2_RB1in_S07_Backward', 'W+0_RB3-_S05_Backward', 'W+1_RB4+_S04_Forward', 'W-1_RB1out_S04_Backward', 'W+0_RB4+_S07_Backward', 'W-1_RB3-_S11_Forward', 'W+1_RB4--_S04_Forward', 'W+0_RB1out_S03_Backward', 'W+2_RB1in_S07_Forward', 'W-2_RB2in_S01_Backward', 'W-2_RB4-_S07_Forward', 'W-1_RB3+_S06_Forward', 'W+0_RB3-_S05_Forward', 'W+2_RB3-_S09_Forward', 'W+2_RB3-_S01_Forward', 'W-2_RB1out_S09_Forward', 'W-2_RB3+_S06_Backward', 'W+0_RB3-_S12_Backward', 'W+0_RB3-_S04_Backward', 'W-1_RB1in_S11_Backward', 'W-1_RB4+_S03_Backward', 'W+1_RB1out_S05_Backward', 'W+0_RB3-_S12_Forward', 'W-2_RB3+_S03_Backward', 'W+0_RB1in_S02_Backward', 'W-1_RB4-_S04_Forward', 'W-2_RB3+_S06_Forward', 'W-1_RB4-_S02_Forward', 'W+0_RB2out_S08_Forward', 'W-1_RB3+_S03_Backward', 'W+0_RB3-_S11_Backward', 'W+0_RB3+_S02_Backward', 'W-1_RB3+_S12_Forward', 'W-2_RB3-_S06_Forward', 'W+0_RB1in_S10_Backward', 'W+0_RB1in_S02_Forward', 'W-1_RB3+_S02_Backward', 'W+0_RB3-_S06_Backward', 'W-1_RB1in_S11_Forward', 'W-1_RB1out_S10_Forward', 'W+1_RB1in_S07_Forward', 'W-1_RB2out_S07_Forward', 'W+0_RB1out_S02_Backward', 'W-1_RB3+_S06_Backward', 'W-2_RB3+_S03_Forward', 'W+0_RB3+_S05_Backward', 'W+2_RB3-_S11_Forward', 'W+1_RB3+_S08_Forward', 'W+2_RB3+_S10_Backward', 'W+2_RB1in_S05_Forward', 'W-2_RB3-_S11_Backward', 'W-1_RB3+_S05_Forward', 'W+0_RB3-_S08_Forward', 'W-2_RB4+_S04_Backward', 'W-1_RB1out_S08_Forward', 'W-1_RB2in_S01_Backward', 'W+1_RB4-_S04_Forward', 'W+2_RB3+_S10_Forward', 'W-2_RB2in_S06_Backward', 'W-1_RB3+_S05_Backward', 'W-1_RB1out_S11_Backward', 'W-1_RB4+_S02_Forward', 'W-1_RB4-_S12_Forward', 'W-2_RB4+_S07_Forward', 'W-1_RB3-_S06_Forward', 'W-1_RB3-_S09_Forward', 'W+1_RB4++_S04_Backward', 'W-1_RB3+_S03_Forward', 'W-2_RB4--_S04_Backward', 'W+1_RB4-_S04_Backward', 'W+2_RB4+_S08_Backward', 'W-1_RB2in_S01_Forward', 'RE+1_R3_CH15_C', 'W+0_RB1out_S02_Forward', 'W-1_RB1out_S11_Forward', 'W+1_RB4-_S10_Backward', 'W+0_RB1out_S10_Backward', 'W+0_RB3+_S06_Backward', 'W-1_RB3+_S12_Backward', 'W-1_RB1out_S02_Forward', 'W+0_RB3-_S04_Forward', 'W+0_RB1out_S05_Forward', 'W-1_RB3-_S03_Forward', 'W+1_RB4+_S04_Backward', 'W-2_RB3+_S08_Forward', 'W+0_RB1in_S05_Backward', 'W+0_RB1out_S06_Forward', 'W+0_RB2in_S07_Middle', 'W+2_RB3+_S12_Backward', 'W-1_RB3+_S10_Backward', 'W-1_RB3-_S05_Forward', 'W-1_RB4+_S01_Backward', 'W-1_RB4-_S01_Forward', 'W+0_RB2in_S06_Backward', 'RE+2_R3_CH33_A', 'W-1_RB3-_S04_Forward', 'W+0_RB1out_S10_Forward', 'W+1_RB4++_S04_Forward', 'W+2_RB2in_S05_Forward', 'W-1_RB3-_S03_Backward', 'W-1_RB4-_S02_Backward', 'W-1_RB1out_S02_Backward', 'W+0_RB3-_S08_Backward', 'W+2_RB1out_S07_Backward', 'W+0_RB4+_S07_Forward', 'W+0_RB2in_S06_Forward', 'W+2_RB3-_S12_Forward', 'W+2_RB1out_S04_Forward', 'W-1_RB1in_S02_Backward', 'W-2_RB2in_S01_Forward', 'W-1_RB1out_S03_Forward', 'W-2_RB2in_S06_Forward', 'W-1_RB1in_S10_Backward', 'W-1_RB3-_S04_Backward', 'RE+2_R3_CH33_C', 'W+0_RB3+_S08_Forward', 'W-2_RB2out_S04_Backward', 'W-2_RB3-_S10_Forward', 'W-1_RB3-_S05_Backward', 'W-1_RB4+_S03_Forward', 'W-1_RB4-_S03_Forward', 'W-1_RB1in_S03_Backward', 'W+2_RB1out_S07_Forward', 'W+1_RB4-_S10_Forward', 'W-1_RB3+_S10_Forward', 'W-1_RB3-_S06_Backward', 'W-2_RB3+_S10_Backward', 'W+1_RB1in_S07_Backward', 'W-1_RB3+_S09_Forward', 'W+2_RB3-_S01_Backward', 'W+1_RB2out_S03_Backward', 'W-1_RB4--_S04_Backward', 'W+2_RB2in_S08_Forward', 'W+0_RB2out_S04_Forward', 'RE+2_R3_CH33_B', 'W-2_RB2out_S04_Middle', 'W+0_RB2in_S06_Middle', 'W-1_RB2in_S01_Middle', 'W-2_RB2out_S01_Backward', 'W-1_RB4-_S12_Backward', 'W+2_RB3-_S06_Backward', 'W-2_RB1out_S08_Backward', 'W-1_RB2out_S01_Backward', 'W-1_RB3-_S09_Backward', 'W-2_RB3+_S08_Backward', 'RE+1_R2_CH35_C', 'W-1_RB3+_S04_Forward', 'W+0_RB1out_S05_Backward', 'W-1_RB1out_S03_Backward', 'W+0_RB3+_S06_Forward', 'W-1_RB2out_S01_Forward', 'W-1_RB3+_S04_Backward', 'W-2_RB3-_S06_Backward', 'W+0_RB4-_S01_Forward', 'W-1_RB3+_S09_Backward', 'W-1_RB4-_S03_Backward', 'W-2_RB4++_S04_Forward', 'W-1_RB3-_S11_Backward', 'W-1_RB4+_S02_Backward', 'W-1_RB3+_S02_Forward', 'W-1_RB4+_S10_Forward', 'W-2_RB4--_S04_Forward', 'W-2_RB1in_S07_Forward', 'W-2_RB4+_S07_Backward', 'W+1_RB3+_S07_Backward', 'W-1_RB3-_S10_Backward', 'W-1_RB1in_S08_Forward', 'W-1_RB1in_S08_Backward', 'W-1_RB4+_S01_Forward', 'W+0_RB3-_S06_Forward', 'W+1_RB3+_S07_Forward', 'W-2_RB4+_S05_Backward', 'W-2_RB2out_S04_Forward', 'W+0_RB3-_S11_Forward', 'W+0_RB1out_S03_Forward', 'W+2_RB3-_S11_Backward', 'W-1_RB3-_S02_Forward', 'W-2_RB1in_S07_Backward', 'W+1_RB3+_S08_Backward', 'RE+1_R2_CH35_B', 'W+0_RB1out_S06_Backward', 'W-1_RB4-_S01_Backward', 'W+0_RB4-_S07_Backward', 'W-2_RB4++_S04_Backward', 'W+2_RB2in_S05_Backward', 'W-2_RB4-_S04_Forward', 'W-1_RB4--_S04_Forward', 'W+2_RB1out_S04_Backward', 'W+0_RB3+_S05_Forward', 'W-2_RB4+_S05_Forward', 'W+0_RB4-_S01_Backward'}\n",
      "{'W+2_RB3+_S12_Forward', 'W+0_RB1in_S05_Forward', 'W+0_RB4-_S07_Forward', 'W-1_RB1in_S10_Forward', 'W-2_RB1out_S09_Backward', 'W+1_RB2out_S02_Forward', 'W+2_RB4+_S08_Forward', 'W-2_RB3-_S12_Backward', 'RE+1_R3_CH04_A', 'W+1_RB2out_S03_Forward', 'W-2_RB2out_S01_Forward', 'RE+1_R3_CH15_B', 'W+1_RB2in_S02_Forward', 'W+0_RB3+_S11_Forward', 'W+0_RB2out_S08_Backward', 'W+0_RB3+_S04_Forward', 'W+2_RB3+_S07_Forward', 'W-1_RB4+_S04_Backward', 'W+0_RB3+_S04_Backward', 'W-1_RB1out_S10_Backward', 'W-2_RB2in_S04_Backward', 'W-1_RB3-_S02_Backward', 'RE+1_R2_CH35_A', 'W-2_RB3-_S10_Backward', 'W-2_RB4+_S04_Forward', 'W-1_RB4+_S07_Forward', 'W-1_RB4-_S04_Backward', 'W-2_RB4-_S07_Backward', 'W-1_RB3-_S10_Forward', 'RE+1_R3_CH04_B', 'W+0_RB3+_S11_Backward', 'W-2_RB2out_S01_Middle', 'W+0_RB2in_S07_Backward', 'W-1_RB2out_S07_Backward', 'W-2_RB2out_S03_Middle', 'W-2_RB3+_S10_Forward', 'W+2_RB2in_S08_Backward', 'W+1_RB4--_S04_Backward', 'W-2_RB2in_S04_Forward', 'W+0_RB3+_S09_Backward', 'W-1_RB1in_S03_Forward', 'RE+1_R3_CH15_A', 'W+0_RB4+_S04_Forward', 'W+0_RB3+_S09_Forward', 'W+2_RB3-_S09_Backward', 'W-1_RB1in_S02_Forward', 'RE+1_R3_CH04_C', 'W+0_RB2out_S04_Backward', 'W-2_RB3-_S11_Forward', 'W-2_RB4-_S04_Backward', 'W+0_RB1in_S10_Forward', 'W+1_RB1out_S05_Forward', 'W+2_RB3-_S12_Backward', 'W-1_RB2in_S05_Middle', 'W+2_RB1out_S01_Forward', 'W-1_RB1out_S08_Backward', 'W-1_RB4+_S10_Backward', 'W+0_RB4++_S04_Backward', 'W+0_RB3-_S09_Backward', 'W+0_RB3+_S12_Backward', 'W+0_RB3+_S02_Forward', 'W+0_RB3+_S08_Backward', 'W+2_RB1in_S05_Backward', 'W+0_RB2in_S07_Forward', 'W+0_RB3+_S12_Forward', 'W+2_RB1in_S07_Backward', 'W+0_RB3-_S05_Backward', 'W+1_RB4+_S04_Forward', 'W-1_RB1out_S04_Backward', 'W+0_RB4+_S07_Backward', 'W-1_RB2in_S05_Forward', 'W-1_RB3-_S11_Forward', 'W+1_RB4--_S04_Forward', 'W+0_RB1out_S03_Backward', 'W+2_RB1in_S07_Forward', 'W-2_RB2in_S03_Backward', 'W-1_RB4++_S04_Forward', 'W-2_RB4-_S07_Forward', 'W-1_RB3+_S06_Forward', 'W+0_RB3-_S05_Forward', 'W+2_RB3-_S09_Forward', 'W+2_RB3-_S01_Forward', 'W-2_RB1out_S09_Forward', 'W-2_RB3+_S06_Backward', 'W-2_RB1out_S01_Forward', 'W+0_RB3-_S12_Backward', 'W+0_RB3-_S04_Backward', 'W-1_RB1in_S11_Backward', 'W-1_RB4+_S03_Backward', 'W+1_RB1out_S05_Backward', 'W+0_RB3-_S12_Forward', 'W-2_RB3+_S03_Backward', 'W+0_RB1in_S02_Backward', 'W-2_RB2out_S11_Middle', 'W-1_RB4-_S04_Forward', 'W-1_RB2out_S04_Backward', 'W-2_RB3+_S06_Forward', 'W-1_RB4-_S02_Forward', 'W+0_RB2out_S08_Forward', 'W-1_RB3+_S03_Backward', 'W+0_RB3-_S11_Backward', 'W-1_RB2out_S10_Forward', 'W+0_RB3+_S02_Backward', 'W-1_RB3+_S12_Forward', 'W+1_RB2out_S05_Forward', 'W+0_RB1in_S10_Backward', 'W+0_RB1in_S02_Forward', 'W-1_RB3+_S02_Backward', 'W+0_RB3-_S06_Backward', 'W-1_RB1in_S11_Forward', 'W-1_RB1out_S10_Forward', 'W-2_RB1out_S08_Forward', 'W-1_RB2in_S05_Backward', 'W+1_RB1in_S07_Forward', 'W-1_RB2out_S07_Forward', 'W+0_RB1out_S02_Backward', 'W-1_RB3+_S06_Backward', 'W-2_RB3+_S03_Forward', 'W+0_RB3+_S05_Backward', 'W+2_RB3-_S11_Forward', 'W+2_RB3+_S10_Backward', 'W+2_RB1in_S05_Forward', 'W-2_RB3-_S11_Backward', 'W-1_RB3+_S05_Forward', 'W+0_RB3-_S08_Forward', 'W-1_RB4-_S07_Backward', 'W-1_RB1out_S08_Forward', 'W-1_RB2in_S01_Backward', 'W+1_RB4-_S04_Forward', 'W+2_RB3+_S10_Forward', 'W-2_RB2in_S06_Backward', 'W-1_RB4+_S04_Forward', 'W-1_RB3+_S05_Backward', 'W-1_RB1out_S11_Backward', 'W-1_RB4+_S02_Forward', 'W-1_RB4-_S12_Forward', 'W-1_RB3-_S06_Forward', 'W-1_RB3-_S09_Forward', 'W-2_RB2in_S05_Backward', 'W+1_RB4++_S04_Backward', 'W-1_RB3+_S03_Forward', 'W-1_RB2out_S05_Forward', 'W-2_RB4--_S04_Backward', 'W+1_RB4-_S04_Backward', 'W+2_RB4+_S08_Backward', 'W-1_RB2in_S01_Forward', 'W-2_RB2out_S03_Forward', 'RE+1_R3_CH15_C', 'W-2_RB2out_S03_Backward', 'W+0_RB1out_S02_Forward', 'W-1_RB1out_S11_Forward', 'W+1_RB4-_S10_Backward', 'W+0_RB1out_S10_Backward', 'W+1_RB2out_S05_Backward', 'W+0_RB3+_S06_Backward', 'W-1_RB3+_S12_Backward', 'W-1_RB1out_S02_Forward', 'W+0_RB3-_S04_Forward', 'W-2_RB4-_S12_Backward', 'W+0_RB1out_S05_Forward', 'W-1_RB3-_S03_Forward', 'W+1_RB4+_S04_Backward', 'W-2_RB3+_S08_Forward', 'W+0_RB1in_S05_Backward', 'W+0_RB1out_S06_Forward', 'W+0_RB2in_S07_Middle', 'W+2_RB3+_S12_Backward', 'W-1_RB3+_S10_Backward', 'W-1_RB3-_S05_Forward', 'W-1_RB4+_S01_Backward', 'W+0_RB4+_S04_Backward', 'W+0_RB2in_S06_Backward', 'W-1_RB2in_S10_Middle', 'W-1_RB4-_S01_Forward', 'RE+2_R3_CH33_A', 'W-1_RB4++_S04_Backward', 'W-2_RB1in_S12_Backward', 'W-1_RB3-_S04_Forward', 'W+0_RB1out_S10_Forward', 'W+1_RB2in_S02_Backward', 'W+1_RB4++_S04_Forward', 'W-1_RB4-_S07_Forward', 'W+2_RB2in_S05_Forward', 'W-1_RB3-_S03_Backward', 'W-1_RB4-_S02_Backward', 'W-1_RB1out_S02_Backward', 'W+0_RB3-_S08_Backward', 'W+2_RB3+_S07_Backward', 'W+0_RB4+_S07_Forward', 'W+0_RB2in_S06_Forward', 'W-1_RB2out_S10_Backward', 'W+2_RB3-_S12_Forward', 'W+2_RB1out_S04_Forward', 'W-1_RB1in_S02_Backward', 'W-2_RB1out_S01_Backward', 'W-1_RB1out_S03_Forward', 'W-2_RB2in_S06_Forward', 'W-1_RB1in_S10_Backward', 'W-1_RB3-_S04_Backward', 'W+0_RB3+_S08_Forward', 'W-2_RB2out_S04_Backward', 'W-2_RB3-_S10_Forward', 'W-1_RB3-_S05_Backward', 'W-1_RB4+_S03_Forward', 'W-1_RB4-_S03_Forward', 'W-1_RB1in_S03_Backward', 'W+1_RB4-_S10_Forward', 'W-1_RB3+_S10_Forward', 'W-1_RB3-_S06_Backward', 'W-2_RB3+_S10_Backward', 'W-2_RB4-_S05_Forward', 'W+1_RB1in_S07_Backward', 'W-1_RB3+_S09_Forward', 'W+2_RB3-_S01_Backward', 'W+1_RB2out_S03_Backward', 'W-2_RB2in_S05_Forward', 'W-1_RB4--_S04_Backward', 'W+2_RB2in_S08_Forward', 'W+0_RB2out_S04_Forward', 'W-2_RB2out_S04_Middle', 'W+0_RB3-_S09_Forward', 'W-1_RB2in_S01_Middle', 'W-2_RB2out_S01_Backward', 'W-1_RB4-_S12_Backward', 'W+1_RB2in_S02_Middle', 'W-2_RB1out_S08_Backward', 'W-1_RB2out_S01_Backward', 'W-1_RB2in_S10_Forward', 'W-1_RB3-_S09_Backward', 'W-2_RB3+_S08_Backward', 'W-2_RB3+_S11_Backward', 'RE+1_R2_CH35_C', 'W-1_RB3+_S04_Forward', 'W+0_RB4++_S04_Forward', 'W-2_RB2in_S03_Forward', 'W+0_RB1out_S05_Backward', 'W-1_RB1out_S03_Backward', 'W+0_RB3+_S06_Forward', 'W-2_RB2out_S11_Backward', 'W-1_RB2out_S01_Forward', 'W-1_RB3+_S04_Backward', 'W-2_RB4+_S04_Backward', 'W+0_RB4-_S01_Forward', 'W-1_RB2in_S10_Backward', 'W-1_RB3+_S09_Backward', 'W-1_RB4-_S03_Backward', 'W-2_RB2out_S11_Forward', 'W-2_RB4-_S05_Backward', 'W-1_RB3-_S11_Backward', 'W-1_RB2out_S05_Backward', 'W-1_RB4+_S02_Backward', 'W-1_RB3+_S02_Forward', 'W-1_RB4+_S10_Forward', 'W-2_RB4--_S04_Forward', 'W-2_RB4-_S12_Forward', 'W-2_RB3+_S11_Forward', 'W-2_RB1in_S07_Forward', 'W-2_RB3-_S05_Forward', 'W+1_RB3+_S07_Backward', 'W-2_RB3-_S12_Forward', 'W-1_RB3-_S10_Backward', 'W-1_RB1in_S08_Forward', 'W-1_RB1in_S08_Backward', 'W-1_RB4+_S01_Forward', 'W+0_RB3-_S06_Forward', 'W+1_RB3+_S07_Forward', 'W-2_RB1in_S12_Forward', 'W-2_RB2out_S04_Forward', 'W-2_RB3-_S05_Backward', 'W-2_RB4+_S05_Backward', 'W+1_RB2out_S02_Backward', 'W+0_RB3-_S11_Forward', 'W+0_RB1out_S03_Forward', 'W+2_RB3-_S11_Backward', 'W-1_RB3-_S02_Forward', 'W-2_RB1in_S07_Backward', 'RE+1_R2_CH35_B', 'W+0_RB1out_S06_Backward', 'W-1_RB4+_S07_Backward', 'W+0_RB4-_S07_Backward', 'W-1_RB4-_S01_Backward', 'W+2_RB2in_S05_Backward', 'W-2_RB4-_S04_Forward', 'W-1_RB4--_S04_Forward', 'W+2_RB1out_S04_Backward', 'W+0_RB3+_S05_Forward', 'W-2_RB4+_S05_Forward', 'W+0_RB4-_S01_Backward'}\n"
     ]
    }
   ],
   "source": [
    "zero2022 = pd.read_csv(\"/users/eigen1907/Workspace/Workspace-RPC/240425-TnP_RPC24/TnP_Plotting/plotting/zero_eff_det_2022.csv\", index_col=False)\n",
    "zero2023 = pd.read_csv(\"/users/eigen1907/Workspace/Workspace-RPC/240425-TnP_RPC24/TnP_Plotting/plotting/zero_eff_det_2023.csv\", index_col=False)\n",
    "\n",
    "zero2022 = set(zero2022['0'])\n",
    "zero2023 = set(zero2023['0'])\n",
    "\n",
    "print(zero2022)\n",
    "print(zero2023)"
   ]
  },
  {
   "cell_type": "code",
   "execution_count": 21,
   "metadata": {},
   "outputs": [
    {
     "name": "stdout",
     "output_type": "stream",
     "text": [
      "{'W+2_RB3+_S12_Forward', 'W+0_RB4-_S07_Forward', 'W-1_RB1in_S10_Forward', 'W-2_RB1out_S09_Backward', 'W+2_RB4+_S08_Forward', 'W+1_RB2out_S03_Forward', 'W-2_RB2out_S01_Forward', 'RE+1_R3_CH15_B', 'W+0_RB3+_S11_Forward', 'W+0_RB2out_S08_Backward', 'W+0_RB3+_S04_Forward', 'W+0_RB3+_S04_Backward', 'W-1_RB1out_S10_Backward', 'W-2_RB2in_S04_Backward', 'W-1_RB3-_S02_Backward', 'RE+1_R2_CH35_A', 'W-2_RB3-_S10_Backward', 'W-2_RB4+_S04_Forward', 'W-1_RB4-_S04_Backward', 'W-2_RB4-_S07_Backward', 'W-1_RB3-_S10_Forward', 'RE+1_R3_CH04_B', 'W+0_RB3+_S11_Backward', 'W-2_RB2out_S01_Middle', 'W+0_RB2in_S07_Backward', 'W-1_RB2out_S07_Backward', 'W-2_RB3+_S10_Forward', 'W+2_RB2in_S08_Backward', 'W+1_RB4--_S04_Backward', 'W-2_RB2in_S04_Forward', 'W-1_RB1in_S03_Forward', 'RE+1_R3_CH15_A', 'W+2_RB3-_S09_Backward', 'W-1_RB1in_S02_Forward', 'RE+1_R3_CH04_C', 'W+0_RB2out_S04_Backward', 'W-2_RB3-_S11_Forward', 'W-2_RB4-_S04_Backward', 'W+0_RB1in_S10_Forward', 'W+1_RB1out_S05_Forward', 'W+2_RB3-_S12_Backward', 'W+2_RB1out_S01_Forward', 'W-1_RB1out_S08_Backward', 'W-1_RB4+_S10_Backward', 'W+0_RB3+_S12_Backward', 'W+0_RB3+_S02_Forward', 'W+0_RB3+_S08_Backward', 'W+2_RB1in_S05_Backward', 'W+0_RB2in_S07_Forward', 'W+0_RB3+_S12_Forward', 'W-1_RB1out_S04_Backward', 'W+2_RB1in_S07_Backward', 'W+0_RB3-_S05_Backward', 'W+1_RB4+_S04_Forward', 'W+0_RB4+_S07_Backward', 'W-1_RB3-_S11_Forward', 'W+1_RB4--_S04_Forward', 'W+0_RB1out_S03_Backward', 'W+2_RB1in_S07_Forward', 'W-2_RB4-_S07_Forward', 'W-1_RB3+_S06_Forward', 'W+0_RB3-_S05_Forward', 'W+2_RB3-_S09_Forward', 'W+2_RB3-_S01_Forward', 'W-2_RB1out_S09_Forward', 'W-2_RB3+_S06_Backward', 'W+0_RB3-_S12_Backward', 'W+0_RB3-_S04_Backward', 'W-1_RB1in_S11_Backward', 'W-1_RB4+_S03_Backward', 'W+1_RB1out_S05_Backward', 'W+0_RB3-_S12_Forward', 'W-2_RB3+_S03_Backward', 'W+0_RB1in_S02_Backward', 'W-1_RB4-_S04_Forward', 'W-2_RB3+_S06_Forward', 'W-1_RB4-_S02_Forward', 'W+0_RB2out_S08_Forward', 'W-1_RB3+_S03_Backward', 'W+0_RB3-_S11_Backward', 'W+0_RB3+_S02_Backward', 'W-1_RB3+_S12_Forward', 'W+0_RB1in_S10_Backward', 'W+0_RB1in_S02_Forward', 'W-1_RB3+_S02_Backward', 'W+0_RB3-_S06_Backward', 'W-1_RB1in_S11_Forward', 'W-1_RB1out_S10_Forward', 'W+1_RB1in_S07_Forward', 'W-1_RB2out_S07_Forward', 'W+0_RB1out_S02_Backward', 'W-1_RB3+_S06_Backward', 'W-2_RB3+_S03_Forward', 'W+0_RB3+_S05_Backward', 'W+2_RB3-_S11_Forward', 'W+2_RB3+_S10_Backward', 'W+2_RB1in_S05_Forward', 'W-2_RB3-_S11_Backward', 'W-1_RB3+_S05_Forward', 'W+0_RB3-_S08_Forward', 'W-2_RB4+_S04_Backward', 'W-1_RB1out_S08_Forward', 'W-1_RB2in_S01_Backward', 'W+1_RB4-_S04_Forward', 'W+2_RB3+_S10_Forward', 'W-2_RB2in_S06_Backward', 'W-1_RB3+_S05_Backward', 'W-1_RB1out_S11_Backward', 'W-1_RB4+_S02_Forward', 'W-1_RB4-_S12_Forward', 'W-1_RB3-_S06_Forward', 'W-1_RB3-_S09_Forward', 'W+1_RB4++_S04_Backward', 'W-1_RB3+_S03_Forward', 'W-2_RB4--_S04_Backward', 'W+1_RB4-_S04_Backward', 'W+2_RB4+_S08_Backward', 'W-1_RB2in_S01_Forward', 'RE+1_R3_CH15_C', 'W+0_RB1out_S02_Forward', 'W-1_RB1out_S11_Forward', 'W+1_RB4-_S10_Backward', 'W+0_RB1out_S10_Backward', 'W+0_RB3+_S06_Backward', 'W-1_RB3+_S12_Backward', 'W-1_RB1out_S02_Forward', 'W+0_RB3-_S04_Forward', 'W+0_RB1out_S05_Forward', 'W-1_RB3-_S03_Forward', 'W+1_RB4+_S04_Backward', 'W-2_RB3+_S08_Forward', 'W+0_RB1in_S05_Backward', 'W+0_RB1out_S06_Forward', 'W+0_RB2in_S07_Middle', 'W+2_RB3+_S12_Backward', 'W-1_RB3+_S10_Backward', 'W-1_RB3-_S05_Forward', 'W-1_RB4+_S01_Backward', 'W-1_RB4-_S01_Forward', 'W+0_RB2in_S06_Backward', 'RE+2_R3_CH33_A', 'W-1_RB3-_S04_Forward', 'W+0_RB1out_S10_Forward', 'W+1_RB4++_S04_Forward', 'W+2_RB2in_S05_Forward', 'W-1_RB3-_S03_Backward', 'W-1_RB4-_S02_Backward', 'W-1_RB1out_S02_Backward', 'W+0_RB3-_S08_Backward', 'W+0_RB4+_S07_Forward', 'W+0_RB2in_S06_Forward', 'W+2_RB3-_S12_Forward', 'W+2_RB1out_S04_Forward', 'W-1_RB1in_S02_Backward', 'W-1_RB1out_S03_Forward', 'W-2_RB2in_S06_Forward', 'W-1_RB1in_S10_Backward', 'W-1_RB3-_S04_Backward', 'W+0_RB3+_S08_Forward', 'W-2_RB2out_S04_Backward', 'W-2_RB3-_S10_Forward', 'W-1_RB3-_S05_Backward', 'W-1_RB4+_S03_Forward', 'W-1_RB4-_S03_Forward', 'W-1_RB1in_S03_Backward', 'W+1_RB4-_S10_Forward', 'W-1_RB3+_S10_Forward', 'W-1_RB3-_S06_Backward', 'W-2_RB3+_S10_Backward', 'W+1_RB1in_S07_Backward', 'W-1_RB3+_S09_Forward', 'W+2_RB3-_S01_Backward', 'W+1_RB2out_S03_Backward', 'W-1_RB4--_S04_Backward', 'W+2_RB2in_S08_Forward', 'W+0_RB2out_S04_Forward', 'W-2_RB2out_S04_Middle', 'W-1_RB2in_S01_Middle', 'W-2_RB2out_S01_Backward', 'W-1_RB4-_S12_Backward', 'W-2_RB1out_S08_Backward', 'W-1_RB2out_S01_Backward', 'W-1_RB3-_S09_Backward', 'W-2_RB3+_S08_Backward', 'RE+1_R2_CH35_C', 'W-1_RB3+_S04_Forward', 'W+0_RB1out_S05_Backward', 'W-1_RB1out_S03_Backward', 'W+0_RB3+_S06_Forward', 'W-1_RB2out_S01_Forward', 'W-1_RB3+_S04_Backward', 'W+0_RB4-_S01_Forward', 'W-1_RB3+_S09_Backward', 'W-1_RB4-_S03_Backward', 'W-1_RB3-_S11_Backward', 'W-1_RB4+_S02_Backward', 'W-1_RB3+_S02_Forward', 'W-1_RB4+_S10_Forward', 'W-2_RB4--_S04_Forward', 'W-2_RB1in_S07_Forward', 'W+1_RB3+_S07_Backward', 'W-1_RB3-_S10_Backward', 'W-1_RB1in_S08_Forward', 'W-1_RB1in_S08_Backward', 'W-1_RB4+_S01_Forward', 'W+0_RB3-_S06_Forward', 'W+1_RB3+_S07_Forward', 'W-2_RB4+_S05_Backward', 'W-2_RB2out_S04_Forward', 'W+0_RB3-_S11_Forward', 'W+0_RB1out_S03_Forward', 'W+2_RB3-_S11_Backward', 'W-1_RB3-_S02_Forward', 'W-2_RB1in_S07_Backward', 'RE+1_R2_CH35_B', 'W+0_RB1out_S06_Backward', 'W-1_RB4-_S01_Backward', 'W+0_RB4-_S07_Backward', 'W+2_RB2in_S05_Backward', 'W-2_RB4-_S04_Forward', 'W-1_RB4--_S04_Forward', 'W+2_RB1out_S04_Backward', 'W+0_RB3+_S05_Forward', 'W-2_RB4+_S05_Forward', 'W+0_RB4-_S01_Backward'}\n"
     ]
    }
   ],
   "source": [
    "from pathlib import Path\n",
    "working_dir = Path('/users/eigen1907/Workspace/Workspace-RPC/240425-TnP_RPC24/TnP_Plotting')\n",
    "print(zero2022 & zero2023)\n",
    "df_both = pd.DataFrame({\"roll_name\": sorted(list(zero2022 & zero2023))})\n",
    "df_both.to_csv(working_dir / 'plotting' / 'both_zero_rolls.csv', index=False)"
   ]
  },
  {
   "cell_type": "code",
   "execution_count": 20,
   "metadata": {},
   "outputs": [
    {
     "name": "stdout",
     "output_type": "stream",
     "text": [
      "{'W-2_RB3-_S06_Forward', 'W-2_RB2in_S01_Backward', 'W-2_RB4++_S04_Forward', 'W-2_RB2in_S01_Forward', 'W+1_RB3+_S08_Backward', 'W-2_RB4++_S04_Backward', 'RE+2_R3_CH33_B', 'RE+2_R3_CH33_C', 'W-2_RB3-_S06_Backward', 'W-2_RB4+_S07_Backward', 'W+0_RB2in_S06_Middle', 'W-2_RB4+_S07_Forward', 'W+2_RB1out_S07_Backward', 'W+2_RB3-_S06_Backward', 'W+2_RB1out_S07_Forward', 'W+1_RB3+_S08_Forward'}\n"
     ]
    }
   ],
   "source": [
    "print(zero2022.difference(zero2023))\n",
    "df_only2022 = pd.DataFrame({\"roll_name\": sorted(list(zero2022.difference(zero2023)))})\n",
    "df_only2022.to_csv(working_dir / 'plotting' / 'only2022_zero_rolls.csv', index=False)"
   ]
  },
  {
   "cell_type": "code",
   "execution_count": 22,
   "metadata": {},
   "outputs": [
    {
     "name": "stdout",
     "output_type": "stream",
     "text": [
      "{'W+0_RB1in_S05_Forward', 'W-2_RB2in_S03_Backward', 'W-2_RB4-_S05_Forward', 'W-1_RB2out_S05_Forward', 'W+1_RB2out_S02_Forward', 'W-2_RB3-_S12_Backward', 'W-1_RB4++_S04_Forward', 'W-2_RB2out_S03_Forward', 'W-2_RB2out_S03_Backward', 'RE+1_R3_CH04_A', 'W+0_RB3-_S09_Forward', 'W+1_RB2in_S02_Middle', 'W-2_RB1out_S01_Forward', 'W+1_RB2in_S02_Forward', 'W+1_RB2out_S05_Backward', 'W-1_RB2in_S10_Forward', 'W+2_RB3+_S07_Forward', 'W-1_RB4+_S04_Backward', 'W-2_RB3+_S11_Backward', 'W-2_RB4-_S12_Backward', 'W-1_RB4+_S07_Forward', 'W-2_RB2out_S11_Middle', 'W+0_RB4++_S04_Forward', 'W-2_RB2in_S03_Forward', 'W-2_RB2out_S11_Backward', 'W-1_RB2out_S04_Backward', 'W-2_RB2in_S05_Forward', 'W-1_RB2out_S10_Forward', 'W+0_RB4+_S04_Backward', 'W-2_RB2out_S03_Middle', 'W-1_RB2in_S10_Middle', 'W-1_RB2in_S10_Backward', 'W+1_RB2out_S05_Forward', 'W-2_RB2out_S11_Forward', 'W-2_RB4-_S05_Backward', 'W+0_RB3+_S09_Backward', 'W-1_RB4++_S04_Backward', 'W-2_RB1out_S08_Forward', 'W-2_RB1in_S12_Backward', 'W-1_RB2out_S05_Backward', 'W+0_RB4+_S04_Forward', 'W+1_RB2in_S02_Backward', 'W-1_RB4-_S07_Forward', 'W+0_RB3+_S09_Forward', 'W-1_RB2in_S05_Backward', 'W-2_RB4-_S12_Forward', 'W-2_RB3+_S11_Forward', 'W-2_RB3-_S05_Forward', 'W-2_RB3-_S12_Forward', 'W+2_RB3+_S07_Backward', 'W-2_RB1in_S12_Forward', 'W-2_RB3-_S05_Backward', 'W-1_RB2in_S05_Middle', 'W-1_RB2out_S10_Backward', 'W-2_RB1out_S01_Backward', 'W+1_RB2out_S02_Backward', 'W-1_RB4-_S07_Backward', 'W+0_RB4++_S04_Backward', 'W+0_RB3-_S09_Backward', 'W-1_RB4+_S04_Forward', 'W-1_RB4+_S07_Backward', 'W-2_RB2in_S05_Backward', 'W-1_RB2in_S05_Forward'}\n"
     ]
    }
   ],
   "source": [
    "print(zero2023.difference(zero2022))\n",
    "df_only2023 = pd.DataFrame({\"roll_name\": sorted(list(zero2023.difference(zero2022)))})\n",
    "df_only2023.to_csv(working_dir / 'plotting' / 'only2023_zero_rolls.csv', index=False)"
   ]
  }
 ],
 "metadata": {
  "kernelspec": {
   "display_name": "Python 3",
   "language": "python",
   "name": "python3"
  },
  "language_info": {
   "codemirror_mode": {
    "name": "ipython",
    "version": 3
   },
   "file_extension": ".py",
   "mimetype": "text/x-python",
   "name": "python",
   "nbconvert_exporter": "python",
   "pygments_lexer": "ipython3",
   "version": "3.11.9"
  }
 },
 "nbformat": 4,
 "nbformat_minor": 2
}
