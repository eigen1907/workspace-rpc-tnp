{
 "cells": [
  {
   "cell_type": "code",
   "execution_count": 2,
   "metadata": {},
   "outputs": [],
   "source": [
    "import numpy as np\n",
    "import os, sys\n",
    "from pathlib import Path\n",
    "import uproot\n",
    "\n",
    "sys.path.append(\"/users/hep/eigen1907/Workspace/Workspace-RPC/modules\")\n",
    "from NanoAODTnP.Plotting.PlotEfficiency import init_figure, hist_eff_by_roll, get_region_params"
   ]
  },
  {
   "cell_type": "code",
   "execution_count": 3,
   "metadata": {},
   "outputs": [],
   "source": [
    "store_path = Path('/users/hep/eigen1907/store/TnP-NanoAOD/analysis')\n",
    "output_path = Path('/users/hep/eigen1907/Workspace/Workspace-RPC/240425-TnP_RPC24/plotting/Hist1D-det-eff')\n",
    "\n",
    "data_type_list = ['without_blacklist', 'with_blacklist_roll', 'with_blacklist_roll_run']\n",
    "\n",
    "regions = [\n",
    "    'All', 'Barrel', 'Endcap', 'Disk123', 'Disk4',\n",
    "    'W-2', 'W-1', 'W+0', 'W+1', 'W+2',\n",
    "    'RE+1', 'RE+2', 'RE+3', 'RE+4',\n",
    "    'RE-1', 'RE-2', 'RE-3', 'RE-4',\n",
    "]\n",
    "\n",
    "for data_type in data_type_list:\n",
    "    input_path_2022 = store_path / data_type / 'Run2022.root'\n",
    "    input_path_2023 = store_path / data_type / 'Run2023.root'\n",
    "    for region in regions:\n",
    "        hist_eff_by_roll(input_path_2022, input_path_2023, region, output_path / data_type / (region + '.png'))"
   ]
  }
 ],
 "metadata": {
  "kernelspec": {
   "display_name": "Python 3",
   "language": "python",
   "name": "python3"
  },
  "language_info": {
   "codemirror_mode": {
    "name": "ipython",
    "version": 3
   },
   "file_extension": ".py",
   "mimetype": "text/x-python",
   "name": "python",
   "nbconvert_exporter": "python",
   "pygments_lexer": "ipython3",
   "version": "3.12.4"
  }
 },
 "nbformat": 4,
 "nbformat_minor": 2
}
