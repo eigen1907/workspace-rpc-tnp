{
 "cells": [
  {
   "cell_type": "code",
   "execution_count": 1,
   "metadata": {},
   "outputs": [],
   "source": [
    "import numpy as np\n",
    "import os, sys\n",
    "from pathlib import Path\n",
    "\n",
    "sys.path.append(\"/users/hep/eigen1907/Workspace/Workspace-RPC/modules\")\n",
    "from NanoAODTnP.Plotting.DataLoader import DataLoader\n",
    "from NanoAODTnP.Plotting.Hist1D import init_figure, eff_hist"
   ]
  },
  {
   "cell_type": "code",
   "execution_count": 2,
   "metadata": {},
   "outputs": [
    {
     "name": "stderr",
     "output_type": "stream",
     "text": [
      "/users/hep/eigen1907/micromamba/envs/ds4hep/lib/python3.11/site-packages/hist/basehist.py:400: UserWarning: List indexing selection is experimental. Removed bins are not placed in overflow.\n",
      "  return super().__getitem__(self._index_transform(index))\n",
      "/users/hep/eigen1907/micromamba/envs/ds4hep/lib/python3.11/site-packages/hist/basehist.py:400: UserWarning: List indexing selection is experimental. Removed bins are not placed in overflow.\n",
      "  return super().__getitem__(self._index_transform(index))\n"
     ]
    }
   ],
   "source": [
    "workspace = Path('/users/hep/eigen1907/Workspace/Workspace-RPC')\n",
    "\n",
    "input_path1 = workspace / 'data' / 'efficiency' / 'data' / 'without_blacklist' / 'Run2022.root'\n",
    "#roll_blacklist_path1 = workspace / 'data' / 'efficiency' / 'blacklist' / 'roll-blacklist-2022.json'\n",
    "\n",
    "input_path2 = workspace / 'data' / 'efficiency' / 'data' / 'without_blacklist' / 'Run2023.root'\n",
    "#roll_blacklist_path2 = workspace / 'data' / 'efficiency' / 'blacklist' / 'roll-blacklist-2023.json'\n",
    "\n",
    "geom_path = workspace / 'data' / 'efficiency' / 'geometry' / 'run3.csv'\n",
    "\n",
    "data1 = DataLoader(\n",
    "    input_path = input_path1,\n",
    "    geom_path = geom_path,\n",
    "    #roll_blacklist_path = roll_blacklist_path1\n",
    ")\n",
    "\n",
    "data2 = DataLoader(\n",
    "    input_path = input_path2,\n",
    "    geom_path = geom_path,\n",
    "    #roll_blacklist_path = roll_blacklist_path2    \n",
    ")"
   ]
  },
  {
   "cell_type": "code",
   "execution_count": 4,
   "metadata": {},
   "outputs": [],
   "source": [
    "filtered_data1 = data1.filter_data(keys = 'is_linked')\n",
    "filtered_data2 = data2.filter_data(keys = 'is_linked')\n",
    "\n",
    "filtered_eff1 = np.divide(\n",
    "    filtered_data1.passed, filtered_data1.total,\n",
    "    out = np.zeros_like(filtered_data1.total),\n",
    "    where = (filtered_data1.total > 0)\n",
    ") * 100\n",
    "\n",
    "filtered_eff2 = np.divide(\n",
    "    filtered_data2.passed, filtered_data2.total,\n",
    "    out = np.zeros_like(filtered_data2.total),\n",
    "    where = (filtered_data2.total > 0)\n",
    ") * 100\n",
    "\n",
    "filtered_roll_names1 = filtered_data1.roll_names\n",
    "filtered_roll_names2 = filtered_data2.roll_names"
   ]
  },
  {
   "cell_type": "code",
   "execution_count": 12,
   "metadata": {},
   "outputs": [
    {
     "name": "stdout",
     "output_type": "stream",
     "text": [
      "['RE+1_R2_CH01_C' 'RE+1_R2_CH11_A' 'RE+1_R2_CH11_B' 'RE+1_R2_CH11_C'\n",
      " 'RE+1_R2_CH25_A' 'RE+1_R2_CH29_B' 'RE+2_R2_CH23_A' 'RE+2_R3_CH32_A'\n",
      " 'RE+3_R3_CH16_C' 'RE+3_R3_CH21_B' 'RE+3_R3_CH21_C' 'RE+4_R3_CH02_A'\n",
      " 'RE+4_R3_CH17_A' 'RE+4_R3_CH17_B' 'RE+4_R3_CH17_C' 'RE-1_R2_CH11_C'\n",
      " 'RE-1_R3_CH02_B' 'RE-1_R3_CH17_B' 'RE-2_R2_CH30_A' 'RE-2_R2_CH30_B'\n",
      " 'RE-2_R2_CH32_B' 'RE-3_R2_CH19_A' 'RE-3_R2_CH19_B'\n",
      " 'W+0_RB2in_S04_Forward' 'W+0_RB2in_S05_Forward' 'W+0_RB3-_S03_Forward'\n",
      " 'W+1_RB3+_S02_Forward' 'W+1_RB3-_S09_Forward' 'W+1_RB4-_S01_Forward'\n",
      " 'W-1_RB2in_S11_Backward' 'W-1_RB3+_S11_Backward' 'W-2_RB3-_S07_Backward']\n",
      "['RE+1_R2_CH01_C' 'RE+1_R2_CH11_A' 'RE+1_R2_CH11_C' 'RE+1_R2_CH25_A'\n",
      " 'RE+1_R3_CH18_B' 'RE+2_R2_CH03_A' 'RE+2_R2_CH23_A' 'RE+2_R3_CH22_A'\n",
      " 'RE+2_R3_CH32_A' 'RE+3_R3_CH16_C' 'RE+3_R3_CH21_B' 'RE+3_R3_CH21_C'\n",
      " 'RE+4_R3_CH02_A' 'RE+4_R3_CH17_A' 'RE+4_R3_CH17_B' 'RE+4_R3_CH17_C'\n",
      " 'RE-1_R2_CH11_C' 'RE-2_R2_CH30_A' 'RE-2_R2_CH30_B' 'RE-2_R2_CH32_B'\n",
      " 'RE-3_R2_CH19_A' 'RE-3_R2_CH19_B' 'RE-3_R2_CH30_A' 'RE-3_R2_CH30_B'\n",
      " 'RE-3_R2_CH30_C' 'W+0_RB2in_S05_Forward' 'W+0_RB3-_S03_Forward'\n",
      " 'W+1_RB3+_S02_Forward' 'W+1_RB3-_S09_Forward' 'W+1_RB4-_S01_Forward'\n",
      " 'W-1_RB2in_S11_Backward' 'W-1_RB2out_S09_Forward' 'W-1_RB3+_S11_Backward'\n",
      " 'W-1_RB4-_S06_Forward' 'W-2_RB3-_S07_Backward']\n",
      "['W+2_RB2in_S03_Forward']\n",
      "['RE+1_R2_CH11_B' 'W+0_RB2in_S04_Forward' 'W+2_RB2in_S03_Forward']\n",
      "['RE+1_R3_CH04_A']\n",
      "['RE+2_R3_CH33_A' 'RE+2_R3_CH33_B' 'RE+2_R3_CH33_C']\n",
      "[]\n",
      "['RE+2_R3_CH33_A']\n"
     ]
    }
   ],
   "source": [
    "print(filtered_roll_names1[filtered_eff1 > 70])\n",
    "print(filtered_roll_names2[filtered_eff2 > 70])\n",
    "\n",
    "print(filtered_roll_names1[(filtered_eff1 > 40) & (filtered_eff1 <= 70)])\n",
    "print(filtered_roll_names2[(filtered_eff2 > 40) & (filtered_eff2 <= 70)])\n",
    "\n",
    "print(filtered_roll_names1[filtered_eff1 <= 40])\n",
    "print(filtered_roll_names2[filtered_eff2 <= 40])"
   ]
  },
  {
   "cell_type": "code",
   "execution_count": null,
   "metadata": {},
   "outputs": [],
   "source": [
    "keys = 'is_linked'\n",
    "\n",
    "regions = [\n",
    "    'All', 'Barrel', 'Endcap', 'Disk123', 'Disk4',\n",
    "    'W-2', 'W-1', 'W+0', 'W+1', 'W+2',\n",
    "    'RE+1', 'RE+2', 'RE+3', 'RE+4',\n",
    "    'RE-1', 'RE-2', 'RE-3', 'RE-4',\n",
    "]\n",
    "\n",
    "for region in regions:\n",
    "    filtered_data1 = data1.filter_data(keys = keys, region = region)\n",
    "    filtered_data2 = data2.filter_data(keys = keys, region = region)\n",
    "    output_path = '/users/hep/eigen1907/Workspace/Workspace-RPC/240425-TnP_RPC24/Plotting/Hist1D-det-eff/with_blacklist/' + region + '.png'\n",
    "    eff_hist(filtered_data1, filtered_data2, output_path)"
   ]
  },
  {
   "cell_type": "code",
   "execution_count": null,
   "metadata": {},
   "outputs": [],
   "source": [
    "regions = [\n",
    "    'All', 'Barrel', 'Endcap', 'Disk123', 'Disk4',\n",
    "    'W-2', 'W-1', 'W+0', 'W+1', 'W+2',\n",
    "    'RE+1', 'RE+2', 'RE+3', 'RE+4',\n",
    "    'RE-1', 'RE-2', 'RE-3', 'RE-4',\n",
    "]\n",
    "\n",
    "for region in regions:\n",
    "    filtered_data1 = data1.filter_data(region = region)\n",
    "    filtered_data2 = data2.filter_data(region = region)\n",
    "    output_path = '/users/hep/eigen1907/Workspace/Workspace-RPC/240425-TnP_RPC24/Plotting/Hist1D-det-eff/without_blacklist/' + region + '.png'\n",
    "    eff_hist(filtered_data1, filtered_data2, output_path)"
   ]
  }
 ],
 "metadata": {
  "kernelspec": {
   "display_name": "Python 3",
   "language": "python",
   "name": "python3"
  },
  "language_info": {
   "codemirror_mode": {
    "name": "ipython",
    "version": 3
   },
   "file_extension": ".py",
   "mimetype": "text/x-python",
   "name": "python",
   "nbconvert_exporter": "python",
   "pygments_lexer": "ipython3",
   "version": "3.11.9"
  }
 },
 "nbformat": 4,
 "nbformat_minor": 2
}
