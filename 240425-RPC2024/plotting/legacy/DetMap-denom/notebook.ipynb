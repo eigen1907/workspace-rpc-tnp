{
 "cells": [
  {
   "cell_type": "code",
   "execution_count": 1,
   "metadata": {},
   "outputs": [],
   "source": [
    "import os, sys\n",
    "sys.path.append(\"/users/eigen1907/Workspace/Workspace-RPC/modules\")"
   ]
  },
  {
   "cell_type": "code",
   "execution_count": 2,
   "metadata": {},
   "outputs": [
    {
     "name": "stderr",
     "output_type": "stream",
     "text": [
      "/users/eigen1907/micromamba/envs/ds4hep/lib/python3.11/site-packages/hist/basehist.py:400: UserWarning: List indexing selection is experimental. Removed bins are not placed in overflow.\n",
      "  return super().__getitem__(self._index_transform(index))\n",
      "/users/eigen1907/micromamba/envs/ds4hep/lib/python3.11/site-packages/hist/basehist.py:400: UserWarning: List indexing selection is experimental. Removed bins are not placed in overflow.\n",
      "  return super().__getitem__(self._index_transform(index))\n"
     ]
    }
   ],
   "source": [
    "from pathlib import Path\n",
    "from NanoAODTnP.Plotting.DetectorMap import plot_detector_map\n",
    "\n",
    "workspace = Path('/users/eigen1907/Workspace/Workspace-RPC')\n",
    "\n",
    "data_list = [\n",
    "    #'Run2022B', 'Run2022C', 'Run2022D', 'Run2022E', 'Run2022F', 'Run2022G',\n",
    "    #'Run2023B', 'Run2023C', 'Run2023D',\n",
    "    'Run2022', 'Run2023'\n",
    "]\n",
    "\n",
    "for data in data_list:\n",
    "    plot_detector_map(\n",
    "        input_path = workspace / 'data' / 'efficiency' / 'data' / f'{data}.root',\n",
    "        geom_path = workspace / 'data' / 'efficiency' / 'geometry' / 'run3.csv',\n",
    "        roll_blacklist_path = workspace / 'data' / 'efficiency' / 'blacklist' / 'roll-blacklist.json',\n",
    "        output_dir = workspace / '240425-TnP_RPC24' / 'Plotting' / 'DetMap-denom' / data,\n",
    "        com = 13.6,\n",
    "        year = data[3:],\n",
    "        label = 'Work in Progress',\n",
    "        value = 'denominator',\n",
    "    )"
   ]
  }
 ],
 "metadata": {
  "kernelspec": {
   "display_name": "Python 3",
   "language": "python",
   "name": "python3"
  },
  "language_info": {
   "codemirror_mode": {
    "name": "ipython",
    "version": 3
   },
   "file_extension": ".py",
   "mimetype": "text/x-python",
   "name": "python",
   "nbconvert_exporter": "python",
   "pygments_lexer": "ipython3",
   "version": "3.11.9"
  }
 },
 "nbformat": 4,
 "nbformat_minor": 2
}
