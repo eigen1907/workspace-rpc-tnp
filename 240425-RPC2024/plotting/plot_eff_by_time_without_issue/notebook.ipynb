{
 "cells": [
  {
   "cell_type": "code",
   "execution_count": 1,
   "metadata": {},
   "outputs": [],
   "source": [
    "import numpy as np\n",
    "import os, sys\n",
    "from pathlib import Path\n",
    "import uproot\n",
    "import pandas as pd\n",
    "\n",
    "sys.path.append(\"/users/hep/eigen1907/Workspace/Workspace-RPC/modules\")\n",
    "from NanoAODTnP.Plotting.PlotEfficiency import init_figure, plot_eff_by_time_run3"
   ]
  },
  {
   "cell_type": "code",
   "execution_count": 2,
   "metadata": {},
   "outputs": [],
   "source": [
    "store_path = Path('/users/hep/eigen1907/store/TnP-NanoAOD/analysis')\n",
    "run_info_path = '/users/hep/eigen1907/store/TnP-NanoAOD/condition/run_info/run_info.csv'\n",
    "output_path = Path('/users/hep/eigen1907/Workspace/Workspace-RPC/240425-TnP_RPC24/plotting/plot_eff_by_time_without_issue')\n",
    "\n",
    "data_type_list = ['without_blacklist', 'with_blacklist_roll', 'with_blacklist_roll_run', 'with_blacklist_roll_run_RE4']\n",
    "eras = ['Run2022', 'Run2023', 'Run3']\n",
    "luminosities = [34.7, 27.9, 69.4]\n",
    "\n",
    "region_list = ['All', 'Barrel', 'Endcap', 'Disk1,2,3', 'Disk4',\n",
    "               'W-2', 'W-1', 'W+0', 'W+1', 'W+2',\n",
    "               'RE+1', 'RE+2', 'RE+3', 'RE+4',\n",
    "               'RE-1', 'RE-2', 'RE-3', 'RE-4']\n",
    "\n",
    "fix_regions_list = [\n",
    "    ['Barrel', 'Endcap'],\n",
    "    ['Barrel', 'Endcap', 'Disk4'],\n",
    "    ['Barrel', 'Disk1,2,3', 'Disk4'],\n",
    "]\n",
    "\n",
    "nonfix_regions_list = [\n",
    "    ['W-2', 'W-1', 'W+0', 'W+1', 'W+2'],\n",
    "    ['RE+1', 'RE+2', 'RE+3', 'RE+4',],\n",
    "    ['RE-1', 'RE-2', 'RE-3', 'RE-4',]\n",
    "]\n"
   ]
  },
  {
   "cell_type": "code",
   "execution_count": 3,
   "metadata": {},
   "outputs": [],
   "source": [
    "for data_type in data_type_list:\n",
    "    for idx in range(len(eras)):\n",
    "        for region in region_list:\n",
    "            plot_eff_by_time_run3(store_path / data_type / f'{eras[idx]}.root',\n",
    "                                  run_info_path, \n",
    "                                  region, \n",
    "                                  output_path / data_type / eras[idx] / f'{region}.png',\n",
    "                                  era=eras[idx],\n",
    "                                  lumi=luminosities[idx],)\n",
    "\n",
    "        for regions in fix_regions_list:\n",
    "            plot_eff_by_time_run3(store_path / data_type / f'{eras[idx]}.root',\n",
    "                                  run_info_path, \n",
    "                                  regions, \n",
    "                                  output_path / data_type / eras[idx] / f'{'_'.join(regions)}.png', \n",
    "                                  era=eras[idx],\n",
    "                                  lumi=luminosities[idx],\n",
    "                                  fix_color=True, \n",
    "                                  alpha=0.7)\n",
    "\n",
    "        for regions in nonfix_regions_list:\n",
    "            plot_eff_by_time_run3(store_path / data_type / f'{eras[idx]}.root', \n",
    "                                  run_info_path,\n",
    "                                  regions,\n",
    "                                  output_path / data_type / eras[idx] / f'{'_'.join(regions)}.png', \n",
    "                                  era=eras[idx],\n",
    "                                  lumi=luminosities[idx],\n",
    "                                  fix_color=False, \n",
    "                                  alpha=0.6)"
   ]
  }
 ],
 "metadata": {
  "kernelspec": {
   "display_name": "Python 3",
   "language": "python",
   "name": "python3"
  },
  "language_info": {
   "codemirror_mode": {
    "name": "ipython",
    "version": 3
   },
   "file_extension": ".py",
   "mimetype": "text/x-python",
   "name": "python",
   "nbconvert_exporter": "python",
   "pygments_lexer": "ipython3",
   "version": "3.12.4"
  }
 },
 "nbformat": 4,
 "nbformat_minor": 2
}
