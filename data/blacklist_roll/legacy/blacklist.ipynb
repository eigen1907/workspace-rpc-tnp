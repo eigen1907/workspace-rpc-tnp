{
 "cells": [
  {
   "cell_type": "code",
   "execution_count": 6,
   "metadata": {},
   "outputs": [],
   "source": [
    "import pandas as pd\n",
    "import json"
   ]
  },
  {
   "cell_type": "code",
   "execution_count": 7,
   "metadata": {},
   "outputs": [],
   "source": [
    "def txt2json(input_path, output_path):\n",
    "    with open(input_filename, 'r') as file:\n",
    "        lines = file.readlines()\n",
    "\n",
    "    formatted_list = []\n",
    "    for line in lines:\n",
    "        parts = line.strip().split()\n",
    "        if len(parts) == 2:\n",
    "            formatted_list.append(parts[1])\n",
    "\n",
    "    formatted_list.sort()\n",
    "\n",
    "    with open(output_filename, 'w') as file:\n",
    "        json.dump(formatted_list, file, indent=4)\n",
    "    return 0\n",
    "\n",
    "def load_json_as_set(json_path: str):\n",
    "    with open(json_path) as stream:\n",
    "        return set(json.load(stream))\n",
    "\n",
    "def save_set_to_json(data_set: set, output_path: str):\n",
    "    data_list = list(data_set)\n",
    "    with open(output_path, 'w') as file:\n",
    "        json.dump(data_list, file)\n",
    "    return 0\n",
    "\n",
    "def roll2chamber(roll_set: set):\n",
    "    chamber_list = []\n",
    "    for roll in roll_set:\n",
    "        roll_names = roll.split('_')\n",
    "        if roll_names[0].startswith('W'):\n",
    "            if roll_names[1].endswith(('in', 'out')):\n",
    "                chamber_name = roll_names[0] + '_' + roll_names[1] + '_' + roll_names[2]\n",
    "            else:\n",
    "                chamber_name = roll_names[0] + '_' + roll_names[1][0:3] + '_' + roll_names[2]\n",
    "            #chamber_name = roll_names[0] + '_' + roll_names[1] + '_' + roll_names[2]\n",
    "        elif roll_names[0].startswith('RE'):\n",
    "            chamber_name = roll_names[0] + '_' + roll_names[1] + '_' + roll_names[2]\n",
    "\n",
    "        chamber_list.append(chamber_name)\n",
    "    return set(chamber_list)"
   ]
  },
  {
   "cell_type": "code",
   "execution_count": 8,
   "metadata": {},
   "outputs": [
    {
     "name": "stdout",
     "output_type": "stream",
     "text": [
      "267\n",
      "316\n",
      "{'W+0_RB1in_S05_Backward', 'W+0_RB4+_S07_Forward', 'W-1_RB1in_S11_Backward', 'W+0_RB3-_S12_Backward', 'W-1_RB3+_S09_Backward', 'W+2_RB1out_S01_Forward', 'W-1_RB4--_S04_Forward', 'W+0_RB3-_S05_Forward', 'W-1_RB1out_S11_Forward', 'W-1_RB4+_S03_Forward', 'RE+2_R3_CH31_A', 'W+0_RB3-_S11_Forward', 'W-1_RB2in_S01_Middle', 'W-1_RB3+_S02_Backward', 'RE+2_R3_CH33_C', 'W-1_RB3-_S09_Backward', 'RE-4_R3_CH04_C', 'W+0_RB3+_S05_Forward', 'W+2_RB1out_S05_Forward', 'W-1_RB3-_S05_Backward', 'W-2_RB2in_S01_Backward', 'RE+1_R3_CH15_B', 'W+0_RB3+_S08_Backward', 'W-1_RB1in_S08_Backward', 'W-1_RB3-_S06_Forward', 'W-1_RB4+_S05_Forward', 'W+0_RB1out_S02_Forward', 'W-2_RB2out_S01_Forward', 'W+0_RB1out_S02_Backward', 'RE+2_R3_CH31_C', 'W+2_RB3-_S12_Backward', 'W+0_RB3-_S12_Forward', 'W+0_RB3-_S05_Backward', 'W+2_RB1in_S05_Backward', 'W-1_RB3-_S10_Backward', 'W-1_RB3-_S04_Forward', 'W+0_RB3+_S06_Backward', 'W+2_RB2in_S05_Forward', 'W-2_RB3-_S10_Backward', 'W-2_RB3+_S06_Forward', 'W-1_RB3-_S03_Forward', 'W+2_RB3-_S06_Forward', 'W-1_RB1out_S02_Backward', 'W+0_RB1in_S10_Forward', 'W-1_RB3+_S04_Forward', 'W+0_RB2in_S06_Middle', 'W-1_RB1out_S08_Forward', 'W-1_RB1in_S02_Forward', 'W+0_RB3-_S06_Forward', 'W+1_RB1out_S05_Forward', 'W+2_RB3+_S10_Forward', 'W-2_RB3+_S10_Backward', 'RE+1_R2_CH10_A', 'W-2_RB3+_S03_Backward', 'RE+1_R3_CH04_B', 'W-2_RB3-_S11_Backward', 'W-2_RB3+_S10_Forward', 'W+1_RB3+_S08_Forward', 'W-2_RB2out_S01_Middle', 'RE+1_R3_CH15_C', 'W+1_RB4++_S04_Backward', 'W+0_RB2in_S06_Forward', 'W+0_RB2out_S04_Forward', 'W-2_RB4+_S04_Forward', 'W+0_RB3+_S12_Forward', 'W+0_RB3-_S04_Forward', 'W+0_RB1in_S05_Forward', 'W-1_RB3-_S02_Backward', 'W+0_RB3+_S12_Backward', 'W-1_RB4-_S01_Forward', 'W-1_RB1out_S11_Backward', 'RE+2_R3_CH33_B', 'RE+2_R2_CH31_A', 'W-1_RB4+_S12_Backward', 'W+0_RB3+_S04_Backward', 'W+2_RB1out_S05_Backward', 'W-1_RB3-_S04_Backward', 'W-2_RB3+_S08_Backward', 'RE+2_R3_CH31_B', 'W+0_RB4-_S07_Forward', 'W-1_RB4-_S12_Forward', 'RE+1_R2_CH10_B', 'W-1_RB3+_S04_Backward', 'W+2_RB3+_S12_Forward', 'RE+1_R2_CH35_A', 'W+1_RB4-_S04_Forward', 'W-1_RB2out_S07_Backward', 'W-1_RB4+_S10_Forward', 'W-1_RB1in_S08_Forward', 'W-2_RB4--_S04_Forward', 'W+2_RB3-_S12_Forward', 'W-1_RB3+_S06_Backward', 'W-2_RB3+_S06_Backward', 'W+2_RB3-_S01_Forward', 'W-1_RB4-_S04_Backward', 'W+0_RB1out_S06_Forward', 'W-2_RB4+_S07_Forward', 'W+0_RB1out_S10_Forward', 'W+1_RB1in_S07_Forward', 'W+0_RB3+_S11_Forward', 'W+0_RB1out_S03_Backward', 'W+2_RB1in_S07_Forward', 'W+2_RB1out_S12_Forward', 'RE+2_R2_CH31_C', 'W+2_RB3+_S10_Backward', 'W+0_RB1out_S06_Backward', 'W-1_RB3+_S06_Forward', 'W+0_RB3+_S02_Backward', 'W+2_RB3+_S12_Backward', 'W+0_RB1out_S05_Backward', 'W+2_RB3-_S11_Forward', 'W-1_RB1in_S03_Forward', 'W-2_RB4--_S04_Backward', 'W-1_RB3-_S09_Forward', 'W+1_RB2out_S05_Forward', 'RE-4_R3_CH04_B', 'W+2_RB2in_S08_Forward', 'W+2_RB4+_S08_Backward', 'W+0_RB3+_S08_Forward', 'W-1_RB2out_S04_Backward', 'W-1_RB3-_S11_Backward', 'W+0_RB3+_S05_Backward', 'W-2_RB2in_S01_Forward', 'W-1_RB4-_S02_Backward', 'W-1_RB4-_S03_Backward', 'W-2_RB4+_S04_Backward', 'RE-4_R3_CH04_A', 'W-2_RB4+_S05_Forward', 'W+2_RB2in_S05_Backward', 'W+0_RB1out_S05_Forward', 'W-2_RB2out_S04_Backward', 'W-1_RB1in_S10_Forward', 'W-1_RB1out_S02_Forward', 'W+0_RB2in_S07_Forward', 'W-1_RB4+_S10_Backward', 'W+1_RB3+_S07_Forward', 'W-1_RB1out_S10_Forward', 'W-2_RB4+_S07_Backward', 'W+1_RB1out_S05_Backward', 'W-2_RB1out_S09_Forward', 'W+1_RB1in_S07_Backward', 'W-2_RB4-_S07_Forward', 'W+0_RB3-_S06_Backward', 'W-1_RB3+_S05_Forward', 'W+2_RB4+_S01_Backward', 'W-2_RB2out_S01_Backward', 'W+0_RB2out_S08_Backward', 'RE+1_R3_CH04_C', 'W+0_RB1out_S03_Forward', 'W+1_RB4+_S04_Backward', 'W+2_RB2in_S08_Backward', 'W+2_RB1in_S07_Backward', 'W+0_RB3-_S04_Backward', 'W+2_RB3-_S09_Forward', 'W-1_RB4+_S01_Backward', 'W+2_RB3-_S01_Backward', 'W-1_RB3+_S05_Backward', 'W+0_RB1in_S10_Backward', 'W-1_RB2out_S01_Backward', 'W-1_RB4+_S01_Forward', 'W-1_RB3+_S03_Backward', 'W-2_RB4++_S04_Forward', 'W+0_RB1in_S02_Forward', 'W-2_RB2in_S04_Backward', 'W+0_RB2in_S07_Middle', 'W+1_RB3+_S08_Backward', 'W-1_RB3+_S09_Forward', 'W-1_RB3+_S12_Forward', 'W+1_RB2out_S03_Backward', 'W+2_RB1out_S07_Forward', 'W-2_RB2out_S04_Middle', 'W+0_RB4+_S07_Backward', 'W+1_RB4+_S04_Forward', 'W+0_RB1out_S10_Backward', 'W-2_RB2in_S06_Forward', 'W+0_RB1in_S02_Backward', 'W+0_RB3+_S04_Forward', 'W+2_RB3-_S11_Backward', 'W-2_RB4-_S04_Forward', 'W+1_RB4--_S04_Backward', 'W-1_RB4-_S02_Forward', 'W-2_RB4-_S07_Backward', 'W+0_RB3-_S11_Backward', 'RE+1_R2_CH10_C', 'W-1_RB1in_S10_Backward', 'W+1_RB4-_S10_Forward', 'W+0_RB3+_S02_Forward', 'RE+1_R3_CH04_A', 'W+0_RB4-_S07_Backward', 'W-1_RB1in_S02_Backward', 'W-1_RB3-_S03_Backward', 'W-2_RB3-_S11_Forward', 'W-1_RB4+_S02_Backward', 'W+2_RB1out_S04_Forward', 'RE+1_R2_CH35_C', 'W-2_RB2out_S04_Forward', 'W-2_RB3-_S06_Backward', 'W-2_RB3-_S06_Forward', 'W+0_RB2out_S08_Forward', 'W-1_RB3-_S05_Forward', 'W+1_RB2out_S12_Backward', 'W-1_RB4--_S04_Backward', 'W-1_RB4-_S01_Backward', 'W-1_RB1out_S03_Backward', 'W-1_RB2out_S01_Forward', 'W-1_RB4-_S04_Forward', 'W+0_RB2in_S07_Backward', 'W+2_RB1out_S07_Backward', 'W-1_RB4-_S03_Forward', 'W-2_RB1in_S07_Forward', 'RE+1_R2_CH35_B', 'W-1_RB3-_S10_Forward', 'W+2_RB1out_S04_Backward', 'W-2_RB1in_S07_Backward', 'W+0_RB2in_S06_Backward', 'W+1_RB4--_S04_Forward', 'W-1_RB3+_S10_Backward', 'RE+2_R3_CH33_A', 'W-1_RB1in_S11_Forward', 'W+0_RB3-_S08_Forward', 'W-2_RB1out_S08_Forward', 'W-1_RB1out_S08_Backward', 'W-2_RB3-_S10_Forward', 'W+0_RB3+_S11_Backward', 'W+0_RB4-_S01_Backward', 'W-1_RB2out_S07_Forward', 'W-2_RB2in_S04_Forward', 'W-2_RB1out_S09_Backward', 'W-2_RB3+_S03_Forward', 'W+2_RB1in_S12_Backward', 'W+1_RB4++_S04_Forward', 'W-1_RB1out_S03_Forward', 'W-1_RB3+_S02_Forward', 'W-1_RB1out_S10_Backward', 'W+1_RB4-_S04_Backward', 'W-1_RB4+_S03_Backward', 'W-1_RB2in_S01_Backward', 'W-1_RB1out_S04_Backward', 'W+2_RB1in_S05_Forward', 'W-1_RB3+_S03_Forward', 'W-1_RB4+_S02_Forward', 'W-2_RB2in_S06_Backward', 'W-2_RB4+_S05_Backward', 'W-1_RB3+_S10_Forward', 'W-2_RB1out_S08_Backward', 'W+1_RB2out_S03_Forward', 'W-1_RB2in_S01_Forward', 'W+1_RB3+_S07_Backward', 'W+0_RB4-_S01_Forward', 'W+0_RB3-_S08_Backward', 'RE+2_R2_CH31_B', 'W-1_RB4-_S12_Backward', 'W-1_RB3-_S11_Forward', 'W-2_RB4++_S04_Backward', 'W+1_RB4-_S10_Backward', 'W-1_RB3-_S06_Backward', 'W+2_RB3-_S06_Backward', 'W+2_RB3-_S09_Backward', 'W-1_RB3+_S12_Backward', 'W-1_RB1in_S03_Backward', 'W-2_RB3+_S08_Forward', 'W-2_RB4-_S04_Backward', 'W+0_RB3+_S06_Forward', 'W+2_RB4+_S08_Forward', 'W+0_RB2out_S04_Backward', 'W-1_RB3-_S02_Forward', 'RE+1_R3_CH15_A'}\n",
      "103\n",
      "124\n",
      "{'W+1_RB2out_S05', 'W+2_RB3_S09', 'RE+2_R2_CH31', 'W+0_RB3_S04', 'W+0_RB2in_S06', 'W-1_RB1out_S11', 'W+2_RB1out_S05', 'W+0_RB2out_S04', 'W-1_RB1in_S11', 'W+0_RB3_S11', 'W+1_RB3_S08', 'W-2_RB2in_S06', 'W-2_RB3_S08', 'W+2_RB3_S11', 'W-1_RB2out_S01', 'W+2_RB3_S12', 'W+0_RB1out_S10', 'W-2_RB3_S03', 'W-1_RB3_S06', 'RE+1_R2_CH10', 'W+1_RB4_S10', 'W-1_RB3_S10', 'W+2_RB1out_S07', 'W+2_RB1in_S05', 'W+0_RB3_S12', 'W+1_RB1in_S07', 'W+2_RB3_S10', 'W+2_RB1out_S12', 'W-2_RB4_S07', 'W+2_RB3_S01', 'W-2_RB4_S05', 'W-1_RB1in_S02', 'W-2_RB3_S10', 'W+2_RB2in_S08', 'W-1_RB3_S12', 'W-2_RB3_S06', 'W-2_RB1in_S07', 'W+2_RB3_S06', 'W+0_RB4_S07', 'W+1_RB2out_S03', 'W+2_RB1in_S07', 'W-2_RB2out_S04', 'W-1_RB4_S12', 'W+1_RB2out_S12', 'W+1_RB3_S07', 'W-1_RB2out_S07', 'W-2_RB2out_S01', 'W-1_RB4_S01', 'W-1_RB4_S04', 'W-1_RB3_S03', 'RE+1_R3_CH04', 'W-2_RB3_S11', 'W-2_RB1out_S08', 'W-1_RB4_S05', 'W-2_RB2in_S04', 'RE+1_R2_CH35', 'W-1_RB1in_S03', 'RE+1_R3_CH15', 'W+0_RB1out_S03', 'W-1_RB3_S05', 'W+0_RB1out_S06', 'RE+2_R3_CH33', 'W-1_RB4_S10', 'W-1_RB1out_S03', 'W-1_RB3_S11', 'W-1_RB3_S09', 'W-1_RB1out_S02', 'W+0_RB3_S02', 'W-2_RB4_S04', 'W+0_RB1out_S02', 'W-1_RB3_S02', 'W-1_RB1out_S08', 'W+1_RB1out_S05', 'W+2_RB1out_S01', 'W+0_RB4_S01', 'W-2_RB2in_S01', 'W-1_RB2in_S01', 'W-1_RB4_S02', 'W+2_RB1out_S04', 'W-1_RB3_S04', 'W+1_RB4_S04', 'RE+2_R3_CH31', 'W-1_RB4_S03', 'W+0_RB1in_S10', 'W+0_RB2in_S07', 'W-2_RB1out_S09', 'W+2_RB4_S01', 'W+0_RB3_S08', 'W+2_RB2in_S05', 'W-1_RB1in_S10', 'W+0_RB1in_S02', 'W+0_RB3_S06', 'W+0_RB1out_S05', 'W-1_RB1out_S10', 'W+2_RB1in_S12', 'W-1_RB1out_S04', 'RE-4_R3_CH04', 'W-1_RB1in_S08', 'W+2_RB4_S08', 'W+0_RB1in_S05', 'W-1_RB2out_S04', 'W+0_RB2out_S08', 'W+0_RB3_S05'}\n"
     ]
    }
   ],
   "source": [
    "# From Mariana, \n",
    "# 2022: 110(108 gas leak)\n",
    "# 2023: 130(129 gas leak)\n",
    "\n",
    "path_blacklist_2022 = '/users/hep/eigen1907/Workspace/Workspace-RPC/data/blacklist_roll/roll-blacklist-2022.json'\n",
    "path_blacklist_2023 = '/users/hep/eigen1907/Workspace/Workspace-RPC/data/blacklist_roll/roll-blacklist-2023.json'\n",
    "\n",
    "roll_blacklist_2022 = load_json_as_set(path_blacklist_2022)\n",
    "roll_blacklist_2023 = load_json_as_set(path_blacklist_2023)\n",
    "\n",
    "print(len(roll_blacklist_2022))\n",
    "print(len(roll_blacklist_2023))\n",
    "print(roll_blacklist_2022)\n",
    "\n",
    "chamber_blacklist_2022 = roll2chamber(roll_blacklist_2022)\n",
    "chamber_blacklist_2023 = roll2chamber(roll_blacklist_2023)\n",
    "\n",
    "print(len(chamber_blacklist_2022))\n",
    "print(len(chamber_blacklist_2023))\n",
    "\n",
    "print(chamber_blacklist_2022)"
   ]
  },
  {
   "cell_type": "code",
   "execution_count": 9,
   "metadata": {},
   "outputs": [
    {
     "name": "stdout",
     "output_type": "stream",
     "text": [
      "341\n",
      "378\n",
      "{'RE-3_R2_CH23_C', 'W-1_RB1out_S11_Forward', 'RE-4_R2_CH13_C', 'RE-4_R2_CH27_C', 'W-1_RB2in_S01_Middle', 'W-1_RB1in_S08_Backward', 'RE-4_R2_CH29_C', 'RE+4_R2_CH09_C', 'W+2_RB1in_S05_Backward', 'W-1_RB3-_S10_Backward', 'W-1_RB3-_S04_Forward', 'W+0_RB1in_S10_Forward', 'W+1_RB1out_S05_Forward', 'W-2_RB3+_S10_Backward', 'W+0_RB2out_S04_Forward', 'W+0_RB3+_S12_Backward', 'W-1_RB4-_S01_Forward', 'W-1_RB1out_S11_Backward', 'RE+2_R3_CH33_B', 'W+0_RB3+_S04_Backward', 'W-1_RB4-_S12_Forward', 'W-2_RB4--_S04_Forward', 'W-1_RB1in_S08_Forward', 'W+0_RB1out_S10_Forward', 'W+1_RB1in_S07_Forward', 'W+0_RB3+_S11_Forward', 'RE+2_R2_CH31_C', 'W-1_RB3+_S06_Forward', 'W-1_RB1in_S03_Forward', 'W+0_RB1out_S05_Backward', 'W-2_RB4--_S04_Backward', 'W-1_RB3-_S09_Forward', 'W-1_RB2out_S04_Backward', 'RE-4_R3_CH04_B', 'W-2_RB4+_S04_Backward', 'W+0_RB1out_S05_Forward', 'RE+3_R2_CH03_C', 'W-1_RB1out_S02_Forward', 'W-1_RB4+_S10_Backward', 'W+0_RB2in_S07_Forward', 'W-2_RB4+_S07_Backward', 'W-2_RB4-_S07_Forward', 'RE+4_R2_CH31_C', 'RE+1_R3_CH04_C', 'W+1_RB4+_S04_Backward', 'W+0_RB3-_S04_Backward', 'RE+4_R2_CH23_C', 'RE+4_R2_CH27_C', 'RE-4_R2_CH23_C', 'W-1_RB1in_S10_Backward', 'W+0_RB4-_S07_Backward', 'W-1_RB4+_S02_Backward', 'W-2_RB2out_S04_Forward', 'W-2_RB3-_S06_Forward', 'W+0_RB2out_S08_Forward', 'W-1_RB4-_S01_Backward', 'W-1_RB1out_S03_Backward', 'W-2_RB1in_S07_Forward', 'W+2_RB1out_S07_Backward', 'RE+2_R3_CH33_A', 'W-2_RB1out_S08_Forward', 'W-2_RB3-_S10_Forward', 'W+0_RB4-_S01_Backward', 'W-2_RB1out_S09_Backward', 'W+2_RB1in_S12_Backward', 'W+1_RB4++_S04_Forward', 'W-1_RB1out_S03_Forward', 'RE-4_R2_CH19_C', 'RE+4_R2_CH19_C', 'W+1_RB4-_S04_Backward', 'W-2_RB4+_S05_Backward', 'RE-4_R2_CH21_C', 'RE+2_R2_CH31_B', 'W-1_RB4-_S12_Backward', 'RE+4_R2_CH33_C', 'W+2_RB3-_S06_Backward', 'W+2_RB3-_S09_Backward', 'W-1_RB3+_S12_Backward', 'W-1_RB1in_S03_Backward', 'W+0_RB1in_S05_Backward', 'RE+3_R2_CH27_C', 'RE-3_R2_CH25_C', 'W-1_RB3+_S09_Backward', 'W+2_RB1out_S01_Forward', 'W-1_RB4--_S04_Forward', 'RE+2_R3_CH33_C', 'W-1_RB3-_S09_Backward', 'W+2_RB1out_S05_Forward', 'W-1_RB3-_S05_Backward', 'W-2_RB2in_S01_Backward', 'RE+1_R3_CH15_B', 'W-1_RB3-_S06_Forward', 'W-1_RB4+_S05_Forward', 'RE+4_R2_CH25_C', 'W+0_RB1out_S02_Forward', 'RE-3_R2_CH35_C', 'W+2_RB2in_S05_Forward', 'W-1_RB3-_S03_Forward', 'W+2_RB3-_S06_Forward', 'RE-3_R2_CH17_C', 'W+0_RB2in_S06_Middle', 'W-1_RB1out_S08_Forward', 'W+2_RB3+_S10_Forward', 'RE+1_R2_CH10_A', 'W-2_RB3+_S03_Backward', 'RE+1_R3_CH04_B', 'W-2_RB3+_S10_Forward', 'W-2_RB4+_S04_Forward', 'RE-4_R2_CH09_C', 'W+0_RB1in_S05_Forward', 'RE+2_R2_CH31_A', 'W+2_RB1out_S05_Backward', 'W-2_RB3+_S08_Backward', 'W-1_RB3-_S04_Backward', 'RE+1_R2_CH35_A', 'W+1_RB4-_S04_Forward', 'W-1_RB4+_S10_Forward', 'W-1_RB3+_S06_Backward', 'W-2_RB3+_S06_Backward', 'RE+4_R2_CH21_C', 'RE+3_R2_CH21_C', 'W+2_RB3+_S10_Backward', 'W+0_RB1out_S06_Backward', 'W+2_RB3-_S11_Forward', 'W+1_RB2out_S05_Forward', 'RE-4_R2_CH35_C', 'W-1_RB1in_S10_Forward', 'W-1_RB1out_S10_Forward', 'W-2_RB1out_S09_Forward', 'RE-4_R2_CH11_C', 'RE-3_R2_CH01_C', 'W+0_RB1out_S03_Forward', 'RE+3_R2_CH15_C', 'W+0_RB1in_S10_Backward', 'W-2_RB4++_S04_Forward', 'W-1_RB3+_S03_Backward', 'W-2_RB2in_S04_Backward', 'W+0_RB2in_S07_Middle', 'W+1_RB3+_S08_Backward', 'W-1_RB3+_S12_Forward', 'W+0_RB1out_S10_Backward', 'RE+4_R2_CH01_C', 'W+2_RB3-_S11_Backward', 'RE+3_R2_CH35_C', 'W+1_RB4--_S04_Backward', 'W-1_RB4-_S02_Forward', 'RE+1_R2_CH10_C', 'W+1_RB4-_S10_Forward', 'W-1_RB3-_S03_Backward', 'W-1_RB1in_S02_Backward', 'RE+3_R2_CH23_C', 'W-2_RB3-_S11_Forward', 'RE+1_R2_CH35_C', 'W-2_RB3-_S06_Backward', 'W-1_RB4--_S04_Backward', 'W-1_RB2out_S01_Forward', 'W-1_RB4-_S04_Forward', 'W+0_RB2in_S07_Backward', 'RE-3_R2_CH27_C', 'W+2_RB1out_S04_Backward', 'W+1_RB4--_S04_Forward', 'W-1_RB3+_S10_Backward', 'RE-4_R2_CH31_C', 'W-1_RB1in_S11_Forward', 'W+0_RB3-_S08_Forward', 'W-1_RB1out_S08_Backward', 'RE+3_R2_CH09_C', 'RE-4_R2_CH17_C', 'W+2_RB1in_S05_Forward', 'W-2_RB2in_S06_Backward', 'RE-3_R2_CH03_C', 'W-1_RB2in_S01_Forward', 'W+1_RB3+_S07_Backward', 'RE+3_R2_CH11_C', 'W+0_RB4-_S01_Forward', 'W-2_RB4++_S04_Backward', 'W+1_RB4-_S10_Backward', 'W+0_RB2out_S04_Backward', 'RE+1_R3_CH15_A', 'W-1_RB4+_S03_Forward', 'RE+2_R3_CH31_A', 'W+0_RB3-_S11_Forward', 'W-1_RB3+_S02_Backward', 'RE+3_R2_CH29_C', 'RE-4_R3_CH04_C', 'W-2_RB2out_S01_Forward', 'RE+2_R3_CH31_C', 'W+0_RB3-_S12_Forward', 'W-2_RB3-_S10_Backward', 'W-1_RB1out_S02_Backward', 'RE-3_R2_CH21_C', 'W-1_RB3+_S04_Forward', 'RE+3_R2_CH25_C', 'RE+1_R3_CH15_C', 'W+0_RB2in_S06_Forward', 'W+0_RB3+_S12_Forward', 'W+0_RB3-_S04_Forward', 'W-1_RB3-_S02_Backward', 'W-1_RB4+_S12_Backward', 'W-1_RB3+_S04_Backward', 'RE-4_R2_CH05_C', 'W+2_RB3+_S12_Forward', 'RE-4_R2_CH04_B', 'W-1_RB4-_S04_Backward', 'W+0_RB1out_S06_Forward', 'W-2_RB4+_S07_Forward', 'RE-3_R2_CH07_C', 'RE+3_R2_CH31_C', 'W+0_RB1out_S03_Backward', 'W+2_RB1in_S07_Forward', 'W+2_RB1out_S12_Forward', 'W+0_RB3+_S02_Backward', 'RE-4_R2_CH33_C', 'W+2_RB4+_S08_Backward', 'W+0_RB3+_S08_Forward', 'W-2_RB2in_S01_Forward', 'W-1_RB4-_S02_Backward', 'W-1_RB4-_S03_Backward', 'RE-4_R3_CH04_A', 'W+1_RB1out_S05_Backward', 'W+1_RB1in_S07_Backward', 'W+0_RB3-_S06_Backward', 'W-1_RB3+_S05_Forward', 'W+0_RB2out_S08_Backward', 'W+2_RB1in_S07_Backward', 'W-1_RB4+_S01_Backward', 'W+2_RB3-_S01_Backward', 'W-1_RB3+_S05_Backward', 'W-1_RB3+_S09_Forward', 'W+1_RB2out_S03_Backward', 'RE-4_R2_CH15_C', 'RE+4_R2_CH05_C', 'W-2_RB4-_S04_Forward', 'RE+4_R2_CH07_C', 'RE+4_R2_CH29_C', 'W+0_RB3-_S11_Backward', 'RE-3_R2_CH33_C', 'W+2_RB1out_S04_Forward', 'RE-4_R2_CH04_C', 'W+1_RB2out_S12_Backward', 'RE+3_R2_CH13_C', 'RE+1_R2_CH35_B', 'RE+4_R2_CH35_C', 'RE-3_R2_CH19_C', 'W-1_RB3-_S10_Forward', 'W+0_RB2in_S06_Backward', 'RE-4_R2_CH07_C', 'RE+3_R2_CH07_C', 'W+0_RB3+_S11_Backward', 'W-2_RB3+_S03_Forward', 'RE+4_R2_CH17_C', 'W-1_RB3+_S02_Forward', 'W-1_RB1out_S10_Backward', 'W-1_RB4+_S03_Backward', 'W-1_RB2in_S01_Backward', 'W-1_RB4+_S02_Forward', 'W-1_RB3+_S03_Forward', 'W-1_RB3+_S10_Forward', 'W-2_RB1out_S08_Backward', 'W+1_RB2out_S03_Forward', 'RE+4_R2_CH03_C', 'W-1_RB3-_S11_Forward', 'RE-3_R2_CH29_C', 'W-2_RB4-_S04_Backward', 'W+0_RB3+_S06_Forward', 'W+2_RB4+_S08_Forward', 'W-1_RB3-_S02_Forward', 'W+0_RB4+_S07_Forward', 'W-1_RB1in_S11_Backward', 'W+0_RB3-_S12_Backward', 'W+0_RB3-_S05_Forward', 'RE-3_R2_CH15_C', 'W+0_RB3+_S05_Forward', 'W+0_RB3+_S08_Backward', 'RE-4_R2_CH25_C', 'W+0_RB1out_S02_Backward', 'W+2_RB3-_S12_Backward', 'RE+3_R2_CH19_C', 'W+0_RB3-_S05_Backward', 'RE-3_R2_CH31_C', 'W+0_RB3+_S06_Backward', 'W-2_RB3+_S06_Forward', 'RE+3_R2_CH05_C', 'RE-3_R2_CH09_C', 'W-1_RB1in_S02_Forward', 'W+0_RB3-_S06_Forward', 'RE-3_R2_CH05_C', 'RE-4_R2_CH01_C', 'W-2_RB3-_S11_Backward', 'W+1_RB3+_S08_Forward', 'W-2_RB2out_S01_Middle', 'W+1_RB4++_S04_Backward', 'RE-4_R2_CH04_A', 'RE+2_R3_CH31_B', 'W+0_RB4-_S07_Forward', 'RE+1_R2_CH10_B', 'W-1_RB2out_S07_Backward', 'W+2_RB3-_S12_Forward', 'W+2_RB3-_S01_Forward', 'W+2_RB3+_S12_Backward', 'RE+4_R2_CH11_C', 'W+2_RB2in_S08_Forward', 'W-1_RB3-_S11_Backward', 'W+0_RB3+_S05_Backward', 'W-2_RB4+_S05_Forward', 'W+2_RB2in_S05_Backward', 'W-2_RB2out_S04_Backward', 'W+1_RB3+_S07_Forward', 'W+2_RB4+_S01_Backward', 'W-2_RB2out_S01_Backward', 'W+2_RB2in_S08_Backward', 'W+2_RB3-_S09_Forward', 'RE+4_R2_CH13_C', 'W-1_RB2out_S01_Backward', 'W-1_RB4+_S01_Forward', 'W+0_RB1in_S02_Forward', 'W+2_RB1out_S07_Forward', 'W-2_RB2out_S04_Middle', 'W+0_RB4+_S07_Backward', 'W+1_RB4+_S04_Forward', 'W-2_RB2in_S06_Forward', 'W+0_RB1in_S02_Backward', 'W+0_RB3+_S04_Forward', 'W-2_RB4-_S07_Backward', 'RE-3_R2_CH13_C', 'W+0_RB3+_S02_Forward', 'RE+4_R2_CH15_C', 'RE+3_R2_CH33_C', 'W-1_RB3-_S05_Forward', 'W-1_RB4-_S03_Forward', 'W-2_RB1in_S07_Backward', 'W-1_RB2out_S07_Forward', 'W-2_RB2in_S04_Forward', 'RE+3_R2_CH17_C', 'W-1_RB1out_S04_Backward', 'RE+3_R2_CH01_C', 'RE-3_R2_CH11_C', 'W+0_RB3-_S08_Backward', 'W-1_RB3-_S06_Backward', 'W-2_RB3+_S08_Forward', 'RE-4_R2_CH03_C'}\n",
      "176\n",
      "191\n",
      "{'W+1_RB2out_S05', 'RE+4_R2_CH11', 'W+2_RB3_S09', 'RE-3_R2_CH21', 'RE+4_R2_CH33', 'RE-3_R2_CH11', 'RE+2_R2_CH31', 'W+0_RB3_S04', 'W+0_RB2in_S06', 'W-1_RB1out_S11', 'W+0_RB2out_S04', 'W+2_RB1out_S05', 'RE-3_R2_CH07', 'W-1_RB1in_S11', 'W+0_RB3_S11', 'W+1_RB3_S08', 'W-2_RB2in_S06', 'RE+3_R2_CH13', 'W-2_RB3_S08', 'RE-3_R2_CH23', 'W+2_RB3_S11', 'W-1_RB2out_S01', 'W+2_RB3_S12', 'W+0_RB1out_S10', 'W-2_RB3_S03', 'RE+3_R2_CH23', 'RE-4_R2_CH21', 'W-1_RB3_S06', 'RE-4_R2_CH01', 'RE+1_R2_CH10', 'W+1_RB4_S10', 'W-1_RB3_S10', 'RE-4_R2_CH17', 'W+2_RB1out_S07', 'W+2_RB1in_S05', 'W+0_RB3_S12', 'RE-3_R2_CH03', 'W+1_RB1in_S07', 'W+2_RB3_S10', 'W+2_RB1out_S12', 'W-2_RB4_S07', 'W+2_RB3_S01', 'W-2_RB4_S05', 'W-1_RB1in_S02', 'RE-3_R2_CH29', 'W-2_RB3_S10', 'RE-4_R2_CH31', 'W+2_RB2in_S08', 'W-1_RB3_S12', 'W-2_RB3_S06', 'W-2_RB1in_S07', 'W+2_RB3_S06', 'W+0_RB4_S07', 'W+1_RB2out_S03', 'W+2_RB1in_S07', 'RE+4_R2_CH21', 'W-2_RB2out_S04', 'RE+4_R2_CH23', 'W-1_RB4_S12', 'RE-3_R2_CH19', 'W+1_RB2out_S12', 'W+1_RB3_S07', 'RE+4_R2_CH05', 'RE-4_R2_CH25', 'RE-4_R2_CH13', 'W-1_RB2out_S07', 'W-2_RB2out_S01', 'RE-4_R2_CH35', 'W-1_RB4_S01', 'W-1_RB4_S04', 'RE-3_R2_CH01', 'RE-4_R2_CH27', 'W-1_RB3_S03', 'RE+3_R2_CH11', 'RE+4_R2_CH27', 'RE+1_R3_CH04', 'RE-4_R2_CH09', 'RE-3_R2_CH09', 'W-2_RB3_S11', 'RE+3_R2_CH31', 'RE-4_R2_CH33', 'RE+3_R2_CH27', 'RE-3_R2_CH31', 'W-2_RB1out_S08', 'W-1_RB4_S05', 'W-2_RB2in_S04', 'RE+4_R2_CH09', 'RE+3_R2_CH33', 'RE+1_R2_CH35', 'W-1_RB1in_S03', 'RE+1_R3_CH15', 'W+0_RB1out_S03', 'RE+4_R2_CH25', 'W-1_RB3_S05', 'W+0_RB1out_S06', 'RE+2_R3_CH33', 'RE-3_R2_CH13', 'RE-3_R2_CH35', 'RE-3_R2_CH17', 'W-1_RB4_S10', 'W-1_RB1out_S03', 'W+0_RB3_S05', 'RE+4_R2_CH19', 'W-1_RB3_S11', 'RE-3_R2_CH15', 'W-1_RB3_S09', 'W-1_RB1out_S02', 'W+0_RB3_S02', 'RE+4_R2_CH03', 'RE+4_R2_CH35', 'RE-4_R2_CH29', 'RE+3_R2_CH25', 'W-2_RB4_S04', 'W+0_RB1out_S02', 'RE+3_R2_CH01', 'W-1_RB3_S02', 'RE-4_R2_CH15', 'W-1_RB1out_S08', 'RE+3_R2_CH19', 'W+1_RB1out_S05', 'W+2_RB1out_S01', 'RE-3_R2_CH33', 'W+0_RB4_S01', 'W-2_RB2in_S01', 'W-1_RB2in_S01', 'W-1_RB4_S02', 'W+2_RB1out_S04', 'W-1_RB3_S04', 'W+1_RB4_S04', 'RE+2_R3_CH31', 'W-1_RB4_S03', 'RE+4_R2_CH17', 'RE-3_R2_CH05', 'RE+3_R2_CH17', 'W+0_RB1in_S10', 'W+0_RB2in_S07', 'RE+4_R2_CH31', 'W-2_RB1out_S09', 'RE+4_R2_CH29', 'RE-4_R2_CH03', 'RE-4_R2_CH19', 'RE-4_R2_CH04', 'W+2_RB2in_S05', 'W+0_RB3_S08', 'W+2_RB4_S01', 'W-1_RB1in_S10', 'RE-4_R2_CH05', 'W+0_RB1in_S02', 'RE-3_R2_CH27', 'RE+3_R2_CH05', 'W+0_RB3_S06', 'W+0_RB1out_S05', 'RE-4_R2_CH23', 'W-1_RB1out_S10', 'W+2_RB1in_S12', 'RE+3_R2_CH21', 'W-1_RB1out_S04', 'RE-4_R3_CH04', 'RE-4_R2_CH11', 'RE+3_R2_CH15', 'RE+3_R2_CH29', 'W-1_RB1in_S08', 'RE+3_R2_CH03', 'RE+4_R2_CH13', 'W-1_RB2out_S04', 'W+0_RB1in_S05', 'RE+4_R2_CH01', 'RE+3_R2_CH35', 'W+2_RB4_S08', 'W+0_RB2out_S08', 'RE+3_R2_CH09', 'RE+3_R2_CH07', 'RE+4_R2_CH07', 'RE-4_R2_CH07', 'RE+4_R2_CH15', 'RE-3_R2_CH25'}\n"
     ]
    }
   ],
   "source": [
    "path_blacklist_2022 = '/users/hep/eigen1907/Workspace/Workspace-RPC/data/blacklist/roll-blacklist-2022.json'\n",
    "path_blacklist_2023 = '/users/hep/eigen1907/Workspace/Workspace-RPC/data/blacklist/roll-blacklist-2023.json'\n",
    "\n",
    "roll_blacklist_2022 = load_json_as_set(path_blacklist_2022)\n",
    "roll_blacklist_2023 = load_json_as_set(path_blacklist_2023)\n",
    "\n",
    "print(len(roll_blacklist_2022))\n",
    "print(len(roll_blacklist_2023))\n",
    "print(roll_blacklist_2022)\n",
    "\n",
    "chamber_blacklist_2022 = roll2chamber(roll_blacklist_2022)\n",
    "chamber_blacklist_2023 = roll2chamber(roll_blacklist_2023)\n",
    "\n",
    "print(len(chamber_blacklist_2022))\n",
    "print(len(chamber_blacklist_2023))\n",
    "\n",
    "print(chamber_blacklist_2022)"
   ]
  }
 ],
 "metadata": {
  "kernelspec": {
   "display_name": "Python 3",
   "language": "python",
   "name": "python3"
  },
  "language_info": {
   "codemirror_mode": {
    "name": "ipython",
    "version": 3
   },
   "file_extension": ".py",
   "mimetype": "text/x-python",
   "name": "python",
   "nbconvert_exporter": "python",
   "pygments_lexer": "ipython3",
   "version": "3.12.4"
  }
 },
 "nbformat": 4,
 "nbformat_minor": 2
}
